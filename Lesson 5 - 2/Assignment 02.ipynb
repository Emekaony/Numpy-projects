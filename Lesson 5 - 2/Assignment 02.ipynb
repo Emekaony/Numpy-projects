{
 "cells": [
  {
   "cell_type": "markdown",
   "metadata": {},
   "source": [
    "<img src=\"http://cfs22.simplicdn.net/ice9/new_logo.svgz \"/>\n",
    "\n",
    "# Assignment 02: Evaluate the Summer Olympics, London 2012 dataset\n",
    "\n",
    "_The comments/sections provided are your cues to perform the assignment. You don't need to limit yourself to the number of rows/cells provided. You can add additional rows in each section to add more lines of code._\n",
    "\n",
    "_If at any point in time you need help on solving this assignment, view our demo video to understand the different steps of the code._\n",
    "\n",
    "**Happy coding!**\n",
    "\n",
    "---\n"
   ]
  },
  {
   "cell_type": "markdown",
   "metadata": {},
   "source": [
    "#### 1: View and add the dataset\n"
   ]
  },
  {
   "cell_type": "code",
   "execution_count": 4,
   "metadata": {
    "collapsed": true
   },
   "outputs": [],
   "source": [
    "# Import the necessary library\n",
    "import numpy as np\n"
   ]
  },
  {
   "cell_type": "code",
   "execution_count": 8,
   "metadata": {
    "collapsed": true
   },
   "outputs": [],
   "source": [
    "# Manually add the Summer Olympics, London 2012 dataset as arrays\n",
    "countries = np.array([\"Great Britain\",\n",
    "                      \"China\",\n",
    "                      \"Russia\",\n",
    "                      \"United States\",\n",
    "                      \"Korea\",\n",
    "                      \"Japan\",\n",
    "                      \"Germany\"\n",
    "                      ])\n",
    "country_codes = np.array([\n",
    "    \"GBR\",\n",
    "    \"CHN\",\n",
    "    \"RUS\",\n",
    "    \"US\",\n",
    "    \"KOR\",\n",
    "    \"JPN\",\n",
    "    \"GER\",\n",
    "])\n",
    "year = [2012,\n",
    "        2012,\n",
    "        2012,\n",
    "        2012,\n",
    "        2012,\n",
    "        2012,\n",
    "        2012,\n",
    "        ]\n",
    "medals = {\n",
    "    \"Gold\": [29,\n",
    "             38,\n",
    "             24,\n",
    "             46,\n",
    "             13,\n",
    "             7,\n",
    "             11,\n",
    "             ],\n",
    "    \"Silver\": [17,\n",
    "               28,\n",
    "               25,\n",
    "               28,\n",
    "               8,\n",
    "               14,\n",
    "               11,\n",
    "               ],\n",
    "    \"Bronze\": [19,\n",
    "               22,\n",
    "               32,\n",
    "               29,\n",
    "               7,\n",
    "               17,\n",
    "               14,\n",
    "               ],\n",
    "}\n"
   ]
  },
  {
   "cell_type": "markdown",
   "metadata": {},
   "source": [
    "#### Find the country with maximum gold medals\n"
   ]
  },
  {
   "cell_type": "code",
   "execution_count": 11,
   "metadata": {
    "collapsed": true
   },
   "outputs": [],
   "source": [
    "# Use the argmax() method to find the highest number of gold medals\n",
    "index_of_max_gold_medals = np.argmax(medals[\"Gold\"])"
   ]
  },
  {
   "cell_type": "code",
   "execution_count": 12,
   "metadata": {
    "collapsed": false
   },
   "outputs": [
    {
     "name": "stdout",
     "output_type": "stream",
     "text": [
      "United States\n"
     ]
    }
   ],
   "source": [
    "# Print the name of the country\n",
    "print(countries[index_of_max_gold_medals])"
   ]
  },
  {
   "cell_type": "markdown",
   "metadata": {},
   "source": [
    "#### Find the countries with more than 20 gold medals\n"
   ]
  },
  {
   "cell_type": "code",
   "execution_count": 16,
   "metadata": {
    "collapsed": false
   },
   "outputs": [
    {
     "name": "stdout",
     "output_type": "stream",
     "text": [
      "['Great Britain' 'China' 'Russia' 'United States']\n"
     ]
    }
   ],
   "source": [
    "# Use Boolean indexing technique to find the required output\n",
    "index_of_countries_with_more_than_20_gold_medals = np.array(medals[\"Gold\"]) > 20\n",
    "#print(countries_with_more_than_20_gold_medals)\n",
    "\n",
    "print(countries[index_of_countries_with_more_than_20_gold_medals])"
   ]
  },
  {
   "cell_type": "markdown",
   "metadata": {},
   "source": [
    "#### Evaluate the dataset and print the name of each country with its gold medals and total number of medals\n"
   ]
  },
  {
   "cell_type": "code",
   "execution_count": 19,
   "metadata": {
    "collapsed": false
   },
   "outputs": [
    {
     "name": "stdout",
     "output_type": "stream",
     "text": [
      "Great Britain has a total of 29 gold medals\n",
      "China has a total of 38 gold medals\n",
      "Russia has a total of 24 gold medals\n",
      "United States has a total of 46 gold medals\n",
      "Korea has a total of 13 gold medals\n",
      "Japan has a total of 7 gold medals\n",
      "Germany has a total of 11 gold medals\n",
      "\n",
      "\n",
      "Great Britain garnered a total of 65 medals in the 2012 olympics!\n",
      "China garnered a total of 88 medals in the 2012 olympics!\n",
      "Russia garnered a total of 81 medals in the 2012 olympics!\n",
      "United States garnered a total of 103 medals in the 2012 olympics!\n",
      "Korea garnered a total of 28 medals in the 2012 olympics!\n",
      "Japan garnered a total of 38 medals in the 2012 olympics!\n",
      "Germany garnered a total of 36 medals in the 2012 olympics!\n"
     ]
    }
   ],
   "source": [
    "# Use a for loop to create the required output\n",
    "for i in range(len(countries)):\n",
    "    print(f\"{countries[i]} has a total of {medals['Gold'][i]} gold medals\")\n",
    "\n",
    "print(\"\\n\")\n",
    "\n",
    "for i in range(len(countries)):\n",
    "    num_of_medals = medals[\"Gold\"][i] + medals[\"Silver\"][i] + medals[\"Bronze\"][i]\n",
    "    country_name = countries[i]\n",
    "    print(f\"{country_name} garnered a total of {num_of_medals} medals in the 2012 olympics!\")\n",
    "    \n"
   ]
  },
  {
   "cell_type": "code",
   "execution_count": null,
   "metadata": {},
   "outputs": [],
   "source": []
  }
 ],
 "metadata": {
  "interpreter": {
   "hash": "9b84b2540e3bb9aa6d052e2eaca687d205b2d6ae139f49b996e97da01605e7e7"
  },
  "kernelspec": {
   "display_name": "Python 3.9.7 ('numpy_env': venv)",
   "language": "python",
   "name": "python3"
  },
  "language_info": {
   "codemirror_mode": {
    "name": "ipython",
    "version": 3
   },
   "file_extension": ".py",
   "mimetype": "text/x-python",
   "name": "python",
   "nbconvert_exporter": "python",
   "pygments_lexer": "ipython3",
   "version": "3.9.7"
  }
 },
 "nbformat": 4,
 "nbformat_minor": 0
}
