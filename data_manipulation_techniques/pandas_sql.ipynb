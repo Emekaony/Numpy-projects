{
 "cells": [
  {
   "cell_type": "code",
   "execution_count": 25,
   "metadata": {},
   "outputs": [],
   "source": [
    "import pandas as pd\n",
    "import sqlite3"
   ]
  },
  {
   "cell_type": "code",
   "execution_count": 26,
   "metadata": {},
   "outputs": [],
   "source": [
    "# create an SQL table\n",
    "create_table = \"\"\" \n",
    "CREATE TABLE student_score\n",
    "(id INTEGER, Name VARCHAR(20), Math REAL,\n",
    "Science REAL\n",
    ");\"\"\""
   ]
  },
  {
   "cell_type": "code",
   "execution_count": 27,
   "metadata": {},
   "outputs": [],
   "source": [
    "# execute SQL statement\n",
    "execute_sql = sqlite3.connect(\":memory:\")\n",
    "execute_sql.execute(create_table)\n",
    "execute_sql.commit()"
   ]
  },
  {
   "cell_type": "code",
   "execution_count": 28,
   "metadata": {},
   "outputs": [],
   "source": [
    "# prepare a sql query\n",
    "# sql_query = execute_sql.execute('select * from student_score')"
   ]
  },
  {
   "cell_type": "code",
   "execution_count": 29,
   "metadata": {},
   "outputs": [],
   "source": [
    "# fetch result from the sqlite table\n",
    "# result_set = sql_query.fetchall()"
   ]
  },
  {
   "cell_type": "code",
   "execution_count": 30,
   "metadata": {},
   "outputs": [],
   "source": [
    "# now view the result\n",
    "# result_set"
   ]
  },
  {
   "cell_type": "code",
   "execution_count": 31,
   "metadata": {},
   "outputs": [],
   "source": [
    "# prepare data to be inserted into sql table\n",
    "insertSQL = [(10, \"Jack\", 85, 92),\n",
    "             (29, \"Tom\", 73, 89),\n",
    "             (65, \"Ram\", 22, 45.33),\n",
    "             (5, \"Steve\", 99.34, 22)\n",
    "             ]"
   ]
  },
  {
   "cell_type": "code",
   "execution_count": 32,
   "metadata": {},
   "outputs": [],
   "source": [
    "# insert the data into an SQL table using SQL statement\n",
    "insert_statement = \"Insert into student_score values(?,?,?,?)\"\n",
    "execute_sql.executemany(insert_statement, insertSQL)\n",
    "execute_sql.commit()"
   ]
  },
  {
   "cell_type": "code",
   "execution_count": 33,
   "metadata": {},
   "outputs": [],
   "source": [
    "# prepare SQL query\n",
    "SQL_query = execute_sql.execute(\"select * from student_score\")"
   ]
  },
  {
   "cell_type": "code",
   "execution_count": 34,
   "metadata": {},
   "outputs": [],
   "source": [
    "# fetch the result set for the query\n",
    "result_set = SQL_query.fetchall()"
   ]
  },
  {
   "cell_type": "code",
   "execution_count": 38,
   "metadata": {},
   "outputs": [
    {
     "data": {
      "text/plain": [
       "[(10, 'Jack', 85.0, 92.0),\n",
       " (29, 'Tom', 73.0, 89.0),\n",
       " (65, 'Ram', 22.0, 45.33),\n",
       " (5, 'Steve', 99.34, 22.0)]"
      ]
     },
     "execution_count": 38,
     "metadata": {},
     "output_type": "execute_result"
    }
   ],
   "source": [
    "# view the result set\n",
    "result_set"
   ]
  },
  {
   "cell_type": "code",
   "execution_count": 46,
   "metadata": {},
   "outputs": [
    {
     "name": "stdout",
     "output_type": "stream",
     "text": [
      "('id', 'Name', 'Math', 'Science')\n"
     ]
    }
   ],
   "source": [
    "print(list(zip(*SQL_query.description))[0])"
   ]
  },
  {
   "cell_type": "code",
   "execution_count": 47,
   "metadata": {},
   "outputs": [],
   "source": [
    "# create a dataFrame and put the data in there\n",
    "df_student_records = pd.DataFrame(result_set, columns=list(zip(*SQL_query.description))[0])"
   ]
  },
  {
   "cell_type": "code",
   "execution_count": 49,
   "metadata": {},
   "outputs": [
    {
     "data": {
      "text/html": [
       "<div>\n",
       "<style scoped>\n",
       "    .dataframe tbody tr th:only-of-type {\n",
       "        vertical-align: middle;\n",
       "    }\n",
       "\n",
       "    .dataframe tbody tr th {\n",
       "        vertical-align: top;\n",
       "    }\n",
       "\n",
       "    .dataframe thead th {\n",
       "        text-align: right;\n",
       "    }\n",
       "</style>\n",
       "<table border=\"1\" class=\"dataframe\">\n",
       "  <thead>\n",
       "    <tr style=\"text-align: right;\">\n",
       "      <th></th>\n",
       "      <th>id</th>\n",
       "      <th>Name</th>\n",
       "      <th>Math</th>\n",
       "      <th>Science</th>\n",
       "    </tr>\n",
       "  </thead>\n",
       "  <tbody>\n",
       "    <tr>\n",
       "      <th>0</th>\n",
       "      <td>10</td>\n",
       "      <td>Jack</td>\n",
       "      <td>85.00</td>\n",
       "      <td>92.00</td>\n",
       "    </tr>\n",
       "    <tr>\n",
       "      <th>1</th>\n",
       "      <td>29</td>\n",
       "      <td>Tom</td>\n",
       "      <td>73.00</td>\n",
       "      <td>89.00</td>\n",
       "    </tr>\n",
       "    <tr>\n",
       "      <th>2</th>\n",
       "      <td>65</td>\n",
       "      <td>Ram</td>\n",
       "      <td>22.00</td>\n",
       "      <td>45.33</td>\n",
       "    </tr>\n",
       "    <tr>\n",
       "      <th>3</th>\n",
       "      <td>5</td>\n",
       "      <td>Steve</td>\n",
       "      <td>99.34</td>\n",
       "      <td>22.00</td>\n",
       "    </tr>\n",
       "  </tbody>\n",
       "</table>\n",
       "</div>"
      ],
      "text/plain": [
       "   id   Name   Math  Science\n",
       "0  10   Jack  85.00    92.00\n",
       "1  29    Tom  73.00    89.00\n",
       "2  65    Ram  22.00    45.33\n",
       "3   5  Steve  99.34    22.00"
      ]
     },
     "execution_count": 49,
     "metadata": {},
     "output_type": "execute_result"
    }
   ],
   "source": [
    "# view the records in a pandas dataFrame\n",
    "df_student_records"
   ]
  }
 ],
 "metadata": {
  "kernelspec": {
   "display_name": "Python 3.9.7 ('numpy_env': venv)",
   "language": "python",
   "name": "python3"
  },
  "language_info": {
   "codemirror_mode": {
    "name": "ipython",
    "version": 3
   },
   "file_extension": ".py",
   "mimetype": "text/x-python",
   "name": "python",
   "nbconvert_exporter": "python",
   "pygments_lexer": "ipython3",
   "version": "3.9.7"
  },
  "orig_nbformat": 4,
  "vscode": {
   "interpreter": {
    "hash": "9b84b2540e3bb9aa6d052e2eaca687d205b2d6ae139f49b996e97da01605e7e7"
   }
  }
 },
 "nbformat": 4,
 "nbformat_minor": 2
}
