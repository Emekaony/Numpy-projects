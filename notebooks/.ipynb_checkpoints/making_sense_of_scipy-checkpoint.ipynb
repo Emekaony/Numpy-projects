{
 "cells": [
  {
   "cell_type": "code",
   "execution_count": 37,
   "id": "0f66b06b",
   "metadata": {},
   "outputs": [],
   "source": [
    "from scipy.integrate import quad\n",
    "from scipy.integrate import dblquad\n",
    "from numpy import exp\n",
    "from numpy import log as ln\n",
    "from numpy import e\n",
    "from numpy import isclose\n",
    "\n",
    "# make sure to do a pip install scipy"
   ]
  },
  {
   "cell_type": "code",
   "execution_count": 43,
   "id": "50328c4a",
   "metadata": {},
   "outputs": [],
   "source": [
    "def integrateFunction(x):\n",
    "    return x"
   ]
  },
  {
   "cell_type": "code",
   "execution_count": 27,
   "id": "eaa51710",
   "metadata": {},
   "outputs": [
    {
     "data": {
      "text/plain": [
       "2.718281828459045"
      ]
     },
     "execution_count": 27,
     "metadata": {},
     "output_type": "execute_result"
    }
   ],
   "source": [
    "def integrateFn(x, a, b):\n",
    "    return x*a+b"
   ]
  },
  {
   "cell_type": "code",
   "execution_count": 40,
   "id": "e10e08aa",
   "metadata": {},
   "outputs": [],
   "source": [
    "a = 3\n",
    "b = 2\n"
   ]
  },
  {
   "cell_type": "code",
   "execution_count": 11,
   "id": "d98dd807",
   "metadata": {},
   "outputs": [
    {
     "data": {
      "text/plain": [
       "(3.5, 3.885780586188048e-14)"
      ]
     },
     "execution_count": 11,
     "metadata": {},
     "output_type": "execute_result"
    }
   ],
   "source": [
    "# when using the quad library, you do not pass in arguments to the \n",
    "# function like normal. Quad comes with an args argument\n",
    "# where you should pass in the arguments that should go into the function\n",
    "quad(integrateFn, 0, 1, args=(a, b))"
   ]
  },
  {
   "cell_type": "code",
   "execution_count": 12,
   "id": "1e9f0c02",
   "metadata": {},
   "outputs": [],
   "source": [
    "def moreComplex(x):\n",
    "    return x**2 + 2*x + 3"
   ]
  },
  {
   "cell_type": "code",
   "execution_count": 13,
   "id": "ecbe0b6a",
   "metadata": {},
   "outputs": [
    {
     "data": {
      "text/plain": [
       "(4.333333333333333, 4.810966440042345e-14)"
      ]
     },
     "execution_count": 13,
     "metadata": {},
     "output_type": "execute_result"
    }
   ],
   "source": [
    "quad(moreComplex, 0, 1)"
   ]
  },
  {
   "cell_type": "code",
   "execution_count": 17,
   "id": "7d84c5a5",
   "metadata": {},
   "outputs": [],
   "source": [
    "def integrateExp(x):\n",
    "    return exp(x)"
   ]
  },
  {
   "cell_type": "code",
   "execution_count": 36,
   "id": "79d8ea4d",
   "metadata": {},
   "outputs": [
    {
     "name": "stdout",
     "output_type": "stream",
     "text": [
      "True\n"
     ]
    }
   ],
   "source": [
    "# this should tell you that the values gotten from\n",
    "# these integration techniques are not exact, but are\n",
    "# very very good approximations\n",
    "\n",
    "# use the numpy.isclose function to see if stuff is close enough\n",
    "# to deem it a reasonable enough approximation with little error\n",
    "y = quad(integrateExp, ln(1), ln(2))\n",
    "print(isclose(y[0], 1))"
   ]
  },
  {
   "cell_type": "code",
   "execution_count": 41,
   "id": "e7fd5de9",
   "metadata": {},
   "outputs": [
    {
     "data": {
      "text/plain": [
       "(6.095238095238096, 2.4838925067764726e-13)"
      ]
     },
     "execution_count": 41,
     "metadata": {},
     "output_type": "execute_result"
    }
   ],
   "source": [
    "# let us perform some double integrals\n",
    "\n",
    "# y must be the first argument, and x the second\n",
    "f = lambda y, x: x + y**2\n",
    "dblquad(f, 0, 2, lambda x: x, lambda x: x**2)"
   ]
  },
  {
   "cell_type": "code",
   "execution_count": 42,
   "id": "1059643e",
   "metadata": {},
   "outputs": [],
   "source": [
    "# optimization"
   ]
  }
 ],
 "metadata": {
  "kernelspec": {
   "display_name": "Python 3 (ipykernel)",
   "language": "python",
   "name": "python3"
  },
  "language_info": {
   "codemirror_mode": {
    "name": "ipython",
    "version": 3
   },
   "file_extension": ".py",
   "mimetype": "text/x-python",
   "name": "python",
   "nbconvert_exporter": "python",
   "pygments_lexer": "ipython3",
   "version": "3.9.7"
  }
 },
 "nbformat": 4,
 "nbformat_minor": 5
}
