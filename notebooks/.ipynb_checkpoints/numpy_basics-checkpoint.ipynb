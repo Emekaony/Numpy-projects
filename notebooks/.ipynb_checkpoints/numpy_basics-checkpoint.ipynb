{
 "cells": [
  {
   "cell_type": "code",
   "execution_count": 2,
   "metadata": {
    "pycharm": {
     "name": "#%%\n"
    }
   },
   "outputs": [],
   "source": [
    "import numpy as np\n",
    "\n",
    "first_numpy_array = [1, 2, 3, 4]"
   ]
  },
  {
   "cell_type": "code",
   "execution_count": 5,
   "metadata": {
    "pycharm": {
     "name": "#%%\n"
    }
   },
   "outputs": [
    {
     "name": "stdout",
     "output_type": "stream",
     "text": [
      "[[0. 0. 0.]\n",
      " [0. 0. 0.]\n",
      " [0. 0. 0.]]\n"
     ]
    }
   ],
   "source": [
    "array_with_zeros = np.zeros((3, 3,))\n",
    "print(array_with_zeros)"
   ]
  },
  {
   "cell_type": "code",
   "execution_count": 16,
   "metadata": {
    "pycharm": {
     "name": "#%%\n"
    }
   },
   "outputs": [],
   "source": [
    "# you can reshape an array to have another shape lol\n",
    "np_arange = np.arange(12)\n",
    "\n",
    "# reshape it to a 3 by 4 matrix\n",
    "three_by_four = np_arange.reshape(12, 1)\n",
    "\n",
    "#print(three_by_four)"
   ]
  },
  {
   "cell_type": "code",
   "execution_count": 20,
   "metadata": {},
   "outputs": [],
   "source": [
    "np_linspace = np.linspace(1, 10, 1000)\n",
    "#print(np_linspace)"
   ]
  },
  {
   "cell_type": "code",
   "execution_count": 22,
   "metadata": {},
   "outputs": [
    {
     "name": "stdout",
     "output_type": "stream",
     "text": [
      "[1 3]\n",
      "int64\n",
      "(2, 4)\n",
      "(2, 3, 3)\n",
      "18\n"
     ]
    }
   ],
   "source": [
    "one_dim_array = np.array([1, 2, 3, 4, 50])\n",
    "two_dim_array = np.array([\n",
    "    [1, 2, 3, 4],\n",
    "    [3, 5, 7 ,8]\n",
    "])\n",
    "\n",
    "print(two_dim_array[:, 0])\n",
    "\n",
    "three_dim_array = np.array([\n",
    "    [[1, 2, 3],\n",
    "    [1, 2, 3],\n",
    "    [1, 2, 3]\n",
    "    ],\n",
    "    \n",
    "    [[5, 6, 9],\n",
    "    [8, 7, 2],\n",
    "    [7, 99, 76]\n",
    "    ],\n",
    "\n",
    "])\n",
    "\n",
    "print(an_array.dtype)\n",
    "\n",
    "print(two_dim_array.shape)\n",
    "print(three_dim_array.shape)\n",
    "print(three_dim_array.size)"
   ]
  },
  {
   "cell_type": "code",
   "execution_count": 20,
   "metadata": {},
   "outputs": [
    {
     "name": "stdout",
     "output_type": "stream",
     "text": [
      "[ True False False False  True False]\n"
     ]
    }
   ],
   "source": [
    "# let us say that we wanted to find out how many people worked \n",
    "# past twenty hours,and also over the age of 80\n",
    "\n",
    "np_overTheAgeOfEighty = np.array([80, 33, 21, 90, 99, 88])\n",
    "np_worked_overTime = np.array([40, 39, 0, 3, 22, 0])\n",
    "\n",
    "# print(np.logical_and(np_worked_overTime >= 20, np_overTheAgeOfEighty >= 80))"
   ]
  },
  {
   "cell_type": "code",
   "execution_count": 24,
   "metadata": {},
   "outputs": [
    {
     "name": "stdout",
     "output_type": "stream",
     "text": [
      "[1 2 3]\n",
      "[1 2 3]\n"
     ]
    }
   ],
   "source": [
    "# Understanding copying \n",
    "\n",
    "a1 = np.array([1, 2, 3])\n",
    "a2 = a1\n",
    "\n",
    "print(a1)\n",
    "print(a2)\n",
    "\n",
    "a1 = np.array([44, 44, 44])"
   ]
  },
  {
   "cell_type": "code",
   "execution_count": null,
   "metadata": {},
   "outputs": [],
   "source": []
  }
 ],
 "metadata": {
  "interpreter": {
   "hash": "9b84b2540e3bb9aa6d052e2eaca687d205b2d6ae139f49b996e97da01605e7e7"
  },
  "kernelspec": {
   "display_name": "Python 3 (ipykernel)",
   "language": "python",
   "name": "python3"
  },
  "language_info": {
   "codemirror_mode": {
    "name": "ipython",
    "version": 3
   },
   "file_extension": ".py",
   "mimetype": "text/x-python",
   "name": "python",
   "nbconvert_exporter": "python",
   "pygments_lexer": "ipython3",
   "version": "3.9.7"
  }
 },
 "nbformat": 4,
 "nbformat_minor": 1
}
