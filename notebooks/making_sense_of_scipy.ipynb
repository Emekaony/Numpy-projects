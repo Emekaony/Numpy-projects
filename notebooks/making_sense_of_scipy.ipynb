{
 "cells": [
  {
   "cell_type": "code",
   "execution_count": null,
   "outputs": [],
   "source": [
    "from scipy.integrate import quad, dblquad\n",
    "from numpy import exp, log as ln, e, isclose\n",
    "from scipy import optimize\n",
    "\n",
    "\n",
    "# make sure to do a pip install scipy"
   ],
   "metadata": {
    "collapsed": false,
    "pycharm": {
     "name": "#%%\n"
    }
   }
  },
  {
   "cell_type": "code",
   "execution_count": null,
   "outputs": [],
   "source": [
    "# define a function that you will spit into the quad method\n",
    "integrateFunction = lambda x: x"
   ],
   "metadata": {
    "collapsed": false,
    "pycharm": {
     "name": "#%%\n"
    }
   }
  },
  {
   "cell_type": "code",
   "execution_count": null,
   "outputs": [],
   "source": [
    "# let us perform some double integrals\n",
    "# y must be the first argument, and x the second\n",
    "\n",
    "'''\n",
    "whatever variable comes first, that is the variable that will be integrated first\n",
    "if x comes first, then it id dxdy. \n",
    "if y comes first, then it is dydx\n",
    "\n",
    "here it will be dydx\n",
    "'''\n",
    "f = lambda y, x: x + y\n",
    "dblquad(f, 0, 2, lambda x: x, lambda x: x**2)"
   ],
   "metadata": {
    "collapsed": false,
    "pycharm": {
     "name": "#%%\n"
    }
   }
  },
  {
   "cell_type": "code",
   "execution_count": null,
   "outputs": [],
   "source": [
    "'''\n",
    "whatever variable comes first, that is the variable that will be integrated first\n",
    "if x comes first, then it id dxdy. \n",
    "if y comes first, then it is dydx\n",
    "\n",
    "here it will be dxdy\n",
    "'''\n",
    "f = lambda x, y: x + y**2\n",
    "dblquad(f, 0, 2, lambda y: y, lambda y: y**2)"
   ],
   "metadata": {
    "collapsed": false,
    "pycharm": {
     "name": "#%%\n"
    }
   }
  },
  {
   "cell_type": "code",
   "execution_count": null,
   "outputs": [],
   "source": [
    "from scipy.optimize import minimize, curve_fit\n",
    "\n",
    "# define a funciton to optimize\n",
    "f = lambda x: 0.5*x + x**2 -199\n",
    "answer = minimize(f, 0, method=\"bfgs\")\n",
    "print(answer.fun, answer.x)"
   ],
   "metadata": {
    "collapsed": false,
    "pycharm": {
     "name": "#%%\n"
    }
   }
  },
  {
   "cell_type": "code",
   "execution_count": null,
   "outputs": [],
   "source": [
    "from scipy.stats import norm\n"
   ],
   "metadata": {
    "collapsed": false,
    "pycharm": {
     "name": "#%%\n"
    }
   }
  },
  {
   "cell_type": "code",
   "execution_count": null,
   "outputs": [],
   "source": [
    "norm.rvs(loc=0, scale=1, size=10)\n",
    "\n",
    "# display the cdf of these random variables\n",
    "norm.cdf(99, loc=1, scale=2)\n",
    "\n",
    "# display the pdf of the random variables\n",
    "norm.pdf(9, loc=0, scale=1)"
   ],
   "metadata": {
    "collapsed": false,
    "pycharm": {
     "name": "#%%\n"
    }
   }
  }
 ],
 "metadata": {
  "interpreter": {
   "hash": "9b84b2540e3bb9aa6d052e2eaca687d205b2d6ae139f49b996e97da01605e7e7"
  },
  "kernelspec": {
   "display_name": "Python 3.9.7 ('numpy_env': venv)",
   "language": "python",
   "name": "python3"
  },
  "language_info": {
   "codemirror_mode": {
    "name": "ipython",
    "version": 3
   },
   "file_extension": ".py",
   "mimetype": "text/x-python",
   "name": "python",
   "nbconvert_exporter": "python",
   "pygments_lexer": "ipython3",
   "version": "3.9.7"
  }
 },
 "nbformat": 4,
 "nbformat_minor": 5
}