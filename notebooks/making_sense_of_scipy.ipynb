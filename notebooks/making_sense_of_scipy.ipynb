{
 "cells": [
  {
   "cell_type": "code",
   "execution_count": 63,
   "id": "0f66b06b",
   "metadata": {},
   "outputs": [],
   "source": [
    "from scipy.integrate import quad, dblquad\n",
    "from numpy import exp, log as ln, e, isclose\n",
    "from scipy import optimize\n",
    "\n",
    "# make sure to do a pip install scipy"
   ]
  },
  {
   "cell_type": "code",
   "execution_count": 64,
   "id": "50328c4a",
   "metadata": {},
   "outputs": [],
   "source": [
    "def integrateFunction(x):\n",
    "    return x"
   ]
  },
  {
   "cell_type": "code",
   "execution_count": 65,
   "id": "eaa51710",
   "metadata": {},
   "outputs": [],
   "source": [
    "def integrateFn(x, a, b):\n",
    "    return x*a+b"
   ]
  },
  {
   "cell_type": "code",
   "execution_count": 66,
   "id": "e10e08aa",
   "metadata": {},
   "outputs": [],
   "source": [
    "a = 3\n",
    "b = 2\n"
   ]
  },
  {
   "cell_type": "code",
   "execution_count": 67,
   "id": "d98dd807",
   "metadata": {},
   "outputs": [
    {
     "data": {
      "text/plain": [
       "(3.5, 3.885780586188048e-14)"
      ]
     },
     "execution_count": 67,
     "metadata": {},
     "output_type": "execute_result"
    }
   ],
   "source": [
    "# when using the quad library, you do not pass in arguments to the \n",
    "# function like normal. Quad comes with an args argument\n",
    "# where you should pass in the arguments that should go into the function\n",
    "quad(integrateFn, 0, 1, args=(a, b))"
   ]
  },
  {
   "cell_type": "code",
   "execution_count": 68,
   "id": "1e9f0c02",
   "metadata": {},
   "outputs": [],
   "source": [
    "def moreComplex(x):\n",
    "    return x**2 + 2*x + 3"
   ]
  },
  {
   "cell_type": "code",
   "execution_count": 69,
   "id": "ecbe0b6a",
   "metadata": {},
   "outputs": [
    {
     "data": {
      "text/plain": [
       "(4.333333333333333, 4.810966440042345e-14)"
      ]
     },
     "execution_count": 69,
     "metadata": {},
     "output_type": "execute_result"
    }
   ],
   "source": [
    "quad(moreComplex, 0, 1)"
   ]
  },
  {
   "cell_type": "code",
   "execution_count": 70,
   "id": "7d84c5a5",
   "metadata": {},
   "outputs": [],
   "source": [
    "def integrateExp(x):\n",
    "    return exp(x)"
   ]
  },
  {
   "cell_type": "code",
   "execution_count": 71,
   "id": "79d8ea4d",
   "metadata": {},
   "outputs": [
    {
     "name": "stdout",
     "output_type": "stream",
     "text": [
      "True\n"
     ]
    }
   ],
   "source": [
    "# this should tell you that the values gotten from\n",
    "# these integration techniques are not exact, but are\n",
    "# very very good approximations\n",
    "\n",
    "# use the numpy.isclose function to see if stuff is close enough\n",
    "# to deem it a reasonable enough approximation with little error\n",
    "y = quad(integrateExp, ln(1), ln(2))\n",
    "print(isclose(y[0], 1))"
   ]
  },
  {
   "cell_type": "code",
   "execution_count": 72,
   "id": "e7fd5de9",
   "metadata": {},
   "outputs": [
    {
     "data": {
      "text/plain": [
       "(6.095238095238096, 2.4838925067764726e-13)"
      ]
     },
     "execution_count": 72,
     "metadata": {},
     "output_type": "execute_result"
    }
   ],
   "source": [
    "# let us perform some double integrals\n",
    "\n",
    "# y must be the first argument, and x the second\n",
    "f = lambda y, x: x + y**2\n",
    "dblquad(f, 0, 2, lambda x: x, lambda x: x**2)"
   ]
  },
  {
   "cell_type": "code",
   "execution_count": 73,
   "id": "1059643e",
   "metadata": {},
   "outputs": [
    {
     "name": "stdout",
     "output_type": "stream",
     "text": [
      "Welcome back!\n"
     ]
    }
   ],
   "source": [
    "# optimization\n",
    "print(\"Welcome back!\")"
   ]
  },
  {
   "cell_type": "code",
   "execution_count": 75,
   "id": "1e9f9ebb",
   "metadata": {},
   "outputs": [],
   "source": [
    "toMinimize = lambda x: x**2+ 3*x \n",
    "\n",
    "a = optimize.minimize(toMinimize, 0, method='bfgs')\n",
    "b = optimize.root(toMinimize, [-100, 100], method=\"hybr\")\n"
   ]
  },
  {
   "cell_type": "code",
   "execution_count": 81,
   "id": "0f7d3a53",
   "metadata": {},
   "outputs": [
    {
     "data": {
      "text/plain": [
       "array([[10,  4],\n",
       "       [ 9,  7]])"
      ]
     },
     "execution_count": 81,
     "metadata": {},
     "output_type": "execute_result"
    }
   ],
   "source": [
    "from scipy import linalg\n",
    "import numpy as np\n",
    "\n",
    "matrix = np.array([\n",
    "    [10, 4],\n",
    "    [9, 7]\n",
    "])\n",
    "\n",
    "matrix"
   ]
  },
  {
   "cell_type": "code",
   "execution_count": 77,
   "id": "8768e56e",
   "metadata": {},
   "outputs": [
    {
     "data": {
      "text/plain": [
       "numpy.ndarray"
      ]
     },
     "execution_count": 77,
     "metadata": {},
     "output_type": "execute_result"
    }
   ],
   "source": [
    "type(matrix)"
   ]
  },
  {
   "cell_type": "code",
   "execution_count": 80,
   "id": "c957b5bb",
   "metadata": {},
   "outputs": [
    {
     "name": "stdout",
     "output_type": "stream",
     "text": [
      "Inverse:  [[ 0.20588235 -0.11764706]\n",
      " [-0.26470588  0.29411765]]\n",
      "Determinant:  34.0\n"
     ]
    },
    {
     "data": {
      "text/plain": [
       "array([-0.02941176,  0.32352941])"
      ]
     },
     "execution_count": 80,
     "metadata": {},
     "output_type": "execute_result"
    }
   ],
   "source": [
    "# common linear algebra techniques\n",
    "\n",
    "print(\"Inverse: \", linalg.inv(matrix))\n",
    "print(\"Determinant: \", linalg.det(matrix))\n",
    "\n",
    "tt = np.array([1, 2])\n",
    "linalg.solve(matrix, tt)"
   ]
  },
  {
   "cell_type": "code",
   "execution_count": 82,
   "id": "78df199f",
   "metadata": {},
   "outputs": [
    {
     "name": "stdout",
     "output_type": "stream",
     "text": [
      "(-0.745966692414834+0j) (14.745966692414834+0j)\n"
     ]
    }
   ],
   "source": [
    "# how to calculate eigenvalues and eigenvectors\n",
    "test_rating_data = np.array([\n",
    "    [5, 8],\n",
    "    [7, 9]\n",
    "])\n",
    "\n",
    "# print the EigenValues\n",
    "eigenvalues, eigenvector = linalg.eig(test_rating_data)\n",
    "first_eigen, second_eigen = eigenvalues\n",
    "print(first_eigen, second_eigen)"
   ]
  },
  {
   "cell_type": "code",
   "execution_count": 86,
   "id": "7312d7f7",
   "metadata": {},
   "outputs": [
    {
     "name": "stdout",
     "output_type": "stream",
     "text": [
      "[-0.81220939  0.58336601]\n",
      "[-0.63447346 -0.77294465]\n"
     ]
    }
   ],
   "source": [
    "# print first eigenvectors\n",
    "print(eigenvector[:, 0])\n",
    "\n",
    "# print second eigenvector\n",
    "print(eigenvector[:, 1])"
   ]
  },
  {
   "cell_type": "code",
   "execution_count": 87,
   "id": "39fc6394",
   "metadata": {},
   "outputs": [],
   "source": [
    "from scipy.stats import norm\n",
    "\n",
    "# location is the mean and scale is the standard deviation for normal distribution"
   ]
  },
  {
   "cell_type": "code",
   "execution_count": 98,
   "id": "50fe3ecf",
   "metadata": {},
   "outputs": [
    {
     "data": {
      "text/plain": [
       "array([-0.80674852,  0.09086689,  1.03487199, -0.16224431,  2.36591293,\n",
       "       -0.41603447,  1.20710798,  1.58092575, -1.86512879, -1.05090736])"
      ]
     },
     "execution_count": 98,
     "metadata": {},
     "output_type": "execute_result"
    }
   ],
   "source": [
    "# read up about random variables\n",
    "# look up the scipy docs and see what these arguments do to the result\n",
    "norm.rvs(loc=0, scale=1, size=10)"
   ]
  },
  {
   "cell_type": "code",
   "execution_count": 99,
   "id": "41c5cf20",
   "metadata": {},
   "outputs": [
    {
     "data": {
      "text/plain": [
       "0.9772498680518208"
      ]
     },
     "execution_count": 99,
     "metadata": {},
     "output_type": "execute_result"
    }
   ],
   "source": [
    "# need to understand what that 5 there does\n",
    "norm.cdf(5, loc=1, scale=2)"
   ]
  },
  {
   "cell_type": "code",
   "execution_count": 100,
   "id": "13aa9983",
   "metadata": {},
   "outputs": [
    {
     "data": {
      "text/plain": [
       "1.0279773571668917e-18"
      ]
     },
     "execution_count": 100,
     "metadata": {},
     "output_type": "execute_result"
    }
   ],
   "source": [
    "# will definitely look more into this package and how to use it\n",
    "norm.pdf(9, loc=0, scale=1)"
   ]
  }
 ],
 "metadata": {
  "interpreter": {
   "hash": "9b84b2540e3bb9aa6d052e2eaca687d205b2d6ae139f49b996e97da01605e7e7"
  },
  "kernelspec": {
   "display_name": "Python 3.9.7 ('numpy_env': venv)",
   "language": "python",
   "name": "python3"
  },
  "language_info": {
   "codemirror_mode": {
    "name": "ipython",
    "version": 3
   },
   "file_extension": ".py",
   "mimetype": "text/x-python",
   "name": "python",
   "nbconvert_exporter": "python",
   "pygments_lexer": "ipython3",
   "version": "3.9.7"
  }
 },
 "nbformat": 4,
 "nbformat_minor": 5
}
