{
 "cells": [
  {
   "cell_type": "code",
   "execution_count": 1,
   "id": "0f66b06b",
   "metadata": {
    "pycharm": {
     "name": "#%%\n"
    }
   },
   "outputs": [],
   "source": [
    "from scipy.integrate import quad, dblquad\n",
    "from numpy import exp, log as ln, e, isclose\n",
    "from scipy import optimize\n",
    "\n",
    "# make sure to do a pip install scipy"
   ]
  },
  {
   "cell_type": "code",
   "execution_count": 2,
   "id": "50328c4a",
   "metadata": {
    "pycharm": {
     "name": "#%%\n"
    }
   },
   "outputs": [],
   "source": [
    "def integrateFunction(x):\n",
    "    return x"
   ]
  },
  {
   "cell_type": "markdown",
   "id": "97645a7f",
   "metadata": {
    "pycharm": {
     "name": "#%% md\n"
    }
   },
   "source": []
  },
  {
   "cell_type": "code",
   "execution_count": 3,
   "id": "e7fd5de9",
   "metadata": {
    "pycharm": {
     "name": "#%%\n"
    }
   },
   "outputs": [
    {
     "data": {
      "text/plain": [
       "(6.095238095238096, 2.4838925067764726e-13)"
      ]
     },
     "execution_count": 3,
     "metadata": {},
     "output_type": "execute_result"
    }
   ],
   "source": [
    "# let us perform some double integrals\n",
    "\n",
    "# y must be the first argument, and x the second\n",
    "f = lambda y, x: x + y**2\n",
    "dblquad(f, 0, 2, lambda x: x, lambda x: x**2)"
   ]
  },
  {
   "cell_type": "code",
   "execution_count": 4,
   "id": "1059643e",
   "metadata": {
    "pycharm": {
     "name": "#%%\n"
    }
   },
   "outputs": [
    {
     "name": "stdout",
     "output_type": "stream",
     "text": [
      "Welcome back!\n"
     ]
    }
   ],
   "source": [
    "# optimization\n",
    "print(\"Welcome back!\")"
   ]
  },
  {
   "cell_type": "code",
   "execution_count": 5,
   "id": "1e9f9ebb",
   "metadata": {
    "pycharm": {
     "name": "#%%\n"
    }
   },
   "outputs": [],
   "source": [
    "toMinimize = lambda x: x**2+ 3*x \n",
    "\n",
    "a = optimize.minimize(toMinimize, 0, method='bfgs')\n",
    "b = optimize.root(toMinimize, [-100, 100], method=\"hybr\")\n"
   ]
  },
  {
   "cell_type": "code",
   "execution_count": 6,
   "id": "0f7d3a53",
   "metadata": {
    "pycharm": {
     "name": "#%%\n"
    }
   },
   "outputs": [
    {
     "data": {
      "text/plain": [
       "array([[10,  4],\n",
       "       [ 9,  7]])"
      ]
     },
     "execution_count": 6,
     "metadata": {},
     "output_type": "execute_result"
    }
   ],
   "source": [
    "from scipy import linalg\n",
    "import numpy as np\n",
    "\n",
    "matrix = np.array([\n",
    "    [10, 4],\n",
    "    [9, 7]\n",
    "])\n",
    "\n",
    "matrix"
   ]
  },
  {
   "cell_type": "code",
   "execution_count": 7,
   "id": "8768e56e",
   "metadata": {
    "pycharm": {
     "name": "#%%\n"
    }
   },
   "outputs": [
    {
     "data": {
      "text/plain": [
       "numpy.ndarray"
      ]
     },
     "execution_count": 7,
     "metadata": {},
     "output_type": "execute_result"
    }
   ],
   "source": [
    "type(matrix)"
   ]
  },
  {
   "cell_type": "code",
   "execution_count": 8,
   "id": "c957b5bb",
   "metadata": {
    "pycharm": {
     "name": "#%%\n"
    }
   },
   "outputs": [
    {
     "name": "stdout",
     "output_type": "stream",
     "text": [
      "Inverse:  [[ 0.20588235 -0.11764706]\n",
      " [-0.26470588  0.29411765]]\n",
      "Determinant:  34.0\n"
     ]
    },
    {
     "data": {
      "text/plain": [
       "array([-0.02941176,  0.32352941])"
      ]
     },
     "execution_count": 8,
     "metadata": {},
     "output_type": "execute_result"
    }
   ],
   "source": [
    "# common linear algebra techniques\n",
    "\n",
    "print(\"Inverse: \", linalg.inv(matrix))\n",
    "print(\"Determinant: \", linalg.det(matrix))\n",
    "\n",
    "tt = np.array([1, 2])\n",
    "linalg.solve(matrix, tt)"
   ]
  },
  {
   "cell_type": "code",
   "execution_count": 9,
   "id": "78df199f",
   "metadata": {
    "pycharm": {
     "name": "#%%\n"
    }
   },
   "outputs": [
    {
     "name": "stdout",
     "output_type": "stream",
     "text": [
      "(-0.745966692414834+0j) (14.745966692414834+0j)\n"
     ]
    }
   ],
   "source": [
    "# how to calculate eigenvalues and eigenvectors\n",
    "test_rating_data = np.array([\n",
    "    [5, 8],\n",
    "    [7, 9]\n",
    "])\n",
    "\n",
    "# print the EigenValues\n",
    "eigenvalues, eigenvector = linalg.eig(test_rating_data)\n",
    "first_eigen, second_eigen = eigenvalues\n",
    "print(first_eigen, second_eigen)"
   ]
  },
  {
   "cell_type": "code",
   "execution_count": 10,
   "id": "7312d7f7",
   "metadata": {
    "pycharm": {
     "name": "#%%\n"
    }
   },
   "outputs": [
    {
     "name": "stdout",
     "output_type": "stream",
     "text": [
      "[-0.81220939  0.58336601]\n",
      "[-0.63447346 -0.77294465]\n"
     ]
    }
   ],
   "source": [
    "# print first eigenvectors\n",
    "print(eigenvector[:, 0])\n",
    "\n",
    "# print second eigenvector\n",
    "print(eigenvector[:, 1])"
   ]
  },
  {
   "cell_type": "code",
   "execution_count": 11,
   "id": "39fc6394",
   "metadata": {
    "pycharm": {
     "name": "#%%\n"
    }
   },
   "outputs": [
    {
     "data": {
      "text/plain": [
       "array([-1.8747855 ,  1.29850557, -1.10196112,  0.18487898, -1.39250586,\n",
       "        0.04500254, -1.20623219, -0.55776048, -0.46267487, -1.36317676])"
      ]
     },
     "execution_count": 11,
     "metadata": {},
     "output_type": "execute_result"
    }
   ],
   "source": [
    "from scipy.stats import norm\n",
    "# location is the mean and scale is the standard deviation for normal distribution\n",
    "\n",
    "norm.rvs(loc=0, scale=1, size=10)"
   ]
  },
  {
   "cell_type": "code",
   "execution_count": 12,
   "id": "d37a25e4",
   "metadata": {
    "pycharm": {
     "name": "#%%\n"
    }
   },
   "outputs": [
    {
     "data": {
      "text/plain": [
       "0.9937903346742238"
      ]
     },
     "execution_count": 12,
     "metadata": {},
     "output_type": "execute_result"
    }
   ],
   "source": [
    "norm.cdf(5, loc=0, scale=2)"
   ]
  },
  {
   "cell_type": "code",
   "execution_count": 13,
   "id": "cbe826f3",
   "metadata": {
    "pycharm": {
     "name": "#%%\n"
    }
   },
   "outputs": [
    {
     "data": {
      "text/plain": [
       "1.0279773571668917e-18"
      ]
     },
     "execution_count": 13,
     "metadata": {},
     "output_type": "execute_result"
    }
   ],
   "source": [
    "norm.pdf(9, loc=0, scale=1)"
   ]
  },
  {
   "cell_type": "code",
   "execution_count": 14,
   "metadata": {
    "collapsed": false,
    "pycharm": {
     "name": "#%%\n"
    }
   },
   "outputs": [
    {
     "name": "stdout",
     "output_type": "stream",
     "text": [
      "<class 'dict'>\n"
     ]
    }
   ],
   "source": [
    "o = {\n",
    "    \"name\": \"Emeka\",\n",
    "    \"id\": 22,\n",
    "    \"age\": 20,\n",
    "}\n",
    "print(type(o))"
   ]
  },
  {
   "cell_type": "code",
   "execution_count": null,
   "metadata": {
    "collapsed": false,
    "pycharm": {
     "name": "#%%\n"
    }
   },
   "outputs": [],
   "source": []
  }
 ],
 "metadata": {
  "interpreter": {
   "hash": "9b84b2540e3bb9aa6d052e2eaca687d205b2d6ae139f49b996e97da01605e7e7"
  },
  "kernelspec": {
   "display_name": "Python 3.9.7 ('numpy_env': venv)",
   "language": "python",
   "name": "python3"
  },
  "language_info": {
   "codemirror_mode": {
    "name": "ipython",
    "version": 3
   },
   "file_extension": ".py",
   "mimetype": "text/x-python",
   "name": "python",
   "nbconvert_exporter": "python",
   "pygments_lexer": "ipython3",
   "version": "3.9.7"
  }
 },
 "nbformat": 4,
 "nbformat_minor": 5
}
