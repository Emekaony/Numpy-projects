{
 "cells": [
  {
   "cell_type": "code",
   "execution_count": 2,
   "id": "0f66b06b",
   "metadata": {
    "pycharm": {
     "name": "#%%\n"
    }
   },
   "outputs": [],
   "source": [
    "from scipy.integrate import quad, dblquad\n",
    "from numpy import exp, log as ln, e, isclose\n",
    "from scipy import optimize\n",
    "\n",
    "\n",
    "# make sure to do a pip install scipy"
   ]
  },
  {
   "cell_type": "code",
   "execution_count": 3,
   "id": "50328c4a",
   "metadata": {
    "pycharm": {
     "name": "#%%\n"
    }
   },
   "outputs": [],
   "source": [
    "# define a function that you will spit into the quad method\n",
    "integrateFunction = lambda x: x"
   ]
  },
  {
   "cell_type": "code",
   "execution_count": 7,
   "id": "e7fd5de9",
   "metadata": {
    "pycharm": {
     "name": "#%%\n"
    }
   },
   "outputs": [
    {
     "data": {
      "text/plain": [
       "(3.2, 1.0996501899124587e-13)"
      ]
     },
     "execution_count": 7,
     "metadata": {},
     "output_type": "execute_result"
    }
   ],
   "source": [
    "# let us perform some double integrals\n",
    "# y must be the first argument, and x the second\n",
    "\n",
    "'''\n",
    "whatever variable comes first, that is the variable that will be integrated first\n",
    "if x comes first, then it id dxdy. \n",
    "if y comes first, then it is dydx\n",
    "\n",
    "here it will be dydx\n",
    "'''\n",
    "f = lambda y, x: x + y\n",
    "dblquad(f, 0, 2, lambda x: x, lambda x: x**2)"
   ]
  },
  {
   "cell_type": "code",
   "execution_count": 9,
   "id": "7ca98b54",
   "metadata": {},
   "outputs": [
    {
     "data": {
      "text/plain": [
       "(4.2666666666666675, 1.5379807449042977e-13)"
      ]
     },
     "execution_count": 9,
     "metadata": {},
     "output_type": "execute_result"
    }
   ],
   "source": [
    "'''\n",
    "whatever variable comes first, that is the variable that will be integrated first\n",
    "if x comes first, then it id dxdy. \n",
    "if y comes first, then it is dydx\n",
    "\n",
    "here it will be dxdy\n",
    "'''\n",
    "f = lambda x, y: x + y**2\n",
    "dblquad(f, 0, 2, lambda y: y, lambda y: y**2)"
   ]
  }
 ],
 "metadata": {
  "interpreter": {
   "hash": "9b84b2540e3bb9aa6d052e2eaca687d205b2d6ae139f49b996e97da01605e7e7"
  },
  "kernelspec": {
   "display_name": "Python 3.9.7 ('numpy_env': venv)",
   "language": "python",
   "name": "python3"
  },
  "language_info": {
   "codemirror_mode": {
    "name": "ipython",
    "version": 3
   },
   "file_extension": ".py",
   "mimetype": "text/x-python",
   "name": "python",
   "nbconvert_exporter": "python",
   "pygments_lexer": "ipython3",
   "version": "3.9.7"
  }
 },
 "nbformat": 4,
 "nbformat_minor": 5
}
