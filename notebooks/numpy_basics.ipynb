{
 "cells": [
  {
   "cell_type": "code",
   "execution_count": 1,
   "metadata": {
    "pycharm": {
     "name": "#%%\n"
    }
   },
   "outputs": [],
   "source": [
    "import numpy as np\n",
    "\n",
    "first_numpy_array = [1, 2, 3, 4]"
   ]
  },
  {
   "cell_type": "code",
   "execution_count": 2,
   "metadata": {
    "pycharm": {
     "name": "#%%\n"
    }
   },
   "outputs": [
    {
     "name": "stdout",
     "output_type": "stream",
     "text": [
      "[[0. 0. 0.]\n",
      " [0. 0. 0.]\n",
      " [0. 0. 0.]]\n"
     ]
    }
   ],
   "source": [
    "array_with_zeros = np.zeros((3, 3,))\n",
    "print(array_with_zeros)"
   ]
  },
  {
   "cell_type": "code",
   "execution_count": 3,
   "metadata": {
    "pycharm": {
     "name": "#%%\n"
    }
   },
   "outputs": [],
   "source": [
    "# you can reshape an array to have another shape lol\n",
    "np_arange = np.arange(12)\n",
    "\n",
    "# reshape it to a 3 by 4 matrix\n",
    "three_by_four = np_arange.reshape(12, 1)\n",
    "\n",
    "#print(three_by_four)"
   ]
  },
  {
   "cell_type": "code",
   "execution_count": 4,
   "metadata": {},
   "outputs": [],
   "source": [
    "np_linspace = np.linspace(1, 10, 1000)\n",
    "#print(np_linspace)"
   ]
  },
  {
   "cell_type": "code",
   "execution_count": 5,
   "metadata": {},
   "outputs": [
    {
     "name": "stdout",
     "output_type": "stream",
     "text": [
      "[1 3]\n",
      "(2, 4)\n",
      "(2, 3, 3)\n",
      "18\n"
     ]
    }
   ],
   "source": [
    "one_dim_array = np.array([1, 2, 3, 4, 50])\n",
    "two_dim_array = np.array([\n",
    "    [1, 2, 3, 4],\n",
    "    [3, 5, 7 ,8]\n",
    "])\n",
    "\n",
    "print(two_dim_array[:, 0])\n",
    "\n",
    "three_dim_array = np.array([\n",
    "    [[1, 2, 3],\n",
    "    [1, 2, 3],\n",
    "    [1, 2, 3]\n",
    "    ],\n",
    "    \n",
    "    [[5, 6, 9],\n",
    "    [8, 7, 2],\n",
    "    [7, 99, 76]\n",
    "    ],\n",
    "\n",
    "])\n",
    "\n",
    "\n",
    "print(two_dim_array.shape)\n",
    "print(three_dim_array.shape)\n",
    "print(three_dim_array.size)"
   ]
  },
  {
   "cell_type": "code",
   "execution_count": 6,
   "metadata": {},
   "outputs": [],
   "source": [
    "# let us say that we wanted to find out how many people worked \n",
    "# past twenty hours,and also over the age of 80\n",
    "\n",
    "np_overTheAgeOfEighty = np.array([80, 33, 21, 90, 99, 88])\n",
    "np_worked_overTime = np.array([40, 39, 0, 3, 22, 0])\n",
    "\n",
    "# print(np.logical_and(np_worked_overTime >= 20, np_overTheAgeOfEighty >= 80))"
   ]
  },
  {
   "cell_type": "code",
   "execution_count": 7,
   "metadata": {},
   "outputs": [
    {
     "name": "stdout",
     "output_type": "stream",
     "text": [
      "[1 2 3]\n",
      "[1 2 3]\n"
     ]
    }
   ],
   "source": [
    "# Understanding copying \n",
    "\n",
    "a1 = np.array([1, 2, 3])\n",
    "a2 = a1\n",
    "\n",
    "print(a1)\n",
    "print(a2)\n",
    "\n",
    "a1 = np.array([44, 44, 44])"
   ]
  },
  {
   "cell_type": "markdown",
   "metadata": {},
   "source": []
  },
  {
   "cell_type": "markdown",
   "metadata": {},
   "source": []
  },
  {
   "cell_type": "code",
   "execution_count": 8,
   "metadata": {},
   "outputs": [
    {
     "name": "stdout",
     "output_type": "stream",
     "text": [
      "[ 4.   5.5  7.   8.5 10.  11.5 13. ]\n"
     ]
    }
   ],
   "source": [
    "# this means that we want 7 numbers between 4 and 13 (inclusive)\n",
    "print(np.linspace(4, 13, 7))"
   ]
  },
  {
   "cell_type": "code",
   "execution_count": 9,
   "metadata": {},
   "outputs": [
    {
     "name": "stdout",
     "output_type": "stream",
     "text": [
      "<U7\n"
     ]
    }
   ],
   "source": [
    "np_string_array = np.array([\"emeka\", \"chidera\"])\n",
    "print(np_string_array.dtype)\n",
    "# not sure what some of these data types mean but they will make sense eventually"
   ]
  },
  {
   "cell_type": "code",
   "execution_count": 10,
   "metadata": {},
   "outputs": [
    {
     "name": "stdout",
     "output_type": "stream",
     "text": [
      "[False  True  True  True]\n"
     ]
    },
    {
     "data": {
      "text/plain": [
       "4"
      ]
     },
     "execution_count": 10,
     "metadata": {},
     "output_type": "execute_result"
    }
   ],
   "source": [
    "# basic mathematics\n",
    "np.add(12, 13)\n",
    "\n",
    "np.sum(np.array([1, 2, 3, 4]))\n",
    "\n",
    "# conditional sum\n",
    "print(np.array([1, 2, 3, 4]) >= 2)\n",
    "\n",
    "# numpy counts a True as 1, and a false as 0\n",
    "np.sum(np.array([1, 2, 3, 4, 5]) >= 2)"
   ]
  },
  {
   "cell_type": "code",
   "execution_count": 11,
   "metadata": {},
   "outputs": [
    {
     "name": "stdout",
     "output_type": "stream",
     "text": [
      "[2 5]\n"
     ]
    }
   ],
   "source": [
    "two_d = np.array([[1, 2, 3], [4, 5, 6]])\n",
    "print(two_d[:, 1])"
   ]
  },
  {
   "cell_type": "code",
   "execution_count": 12,
   "metadata": {},
   "outputs": [
    {
     "name": "stdout",
     "output_type": "stream",
     "text": [
      "[[ 2  5]\n",
      " [ 1 23]]\n",
      "(2, 2, 3)\n"
     ]
    }
   ],
   "source": [
    "three_d = np.array([\n",
    "    [\n",
    "        [1, 2, 3],\n",
    "        [4, 5, 6]\n",
    "    ],\n",
    "    [\n",
    "        [4, 1 ,5],\n",
    "        [6, 23, 66],\n",
    "    ]\n",
    "])\n",
    "print(three_d[:, :, 1])\n",
    "print(three_d.shape)"
   ]
  },
  {
   "cell_type": "code",
   "execution_count": 13,
   "metadata": {},
   "outputs": [
    {
     "name": "stdout",
     "output_type": "stream",
     "text": [
      "True\n",
      "[ 1  2 99  4] [ 1  2 99  4]\n"
     ]
    }
   ],
   "source": [
    "# simple assignments do not create new arrays, they just reference the same array\n",
    "parent_arr = np.array([1, 2, 3, 4])\n",
    "child = parent_arr\n",
    "\n",
    "print(child is parent_arr)\n",
    "\n",
    "child[2] = 99\n",
    "print(child, parent_arr)"
   ]
  },
  {
   "cell_type": "code",
   "execution_count": 14,
   "metadata": {},
   "outputs": [
    {
     "name": "stdout",
     "output_type": "stream",
     "text": [
      "Before change: \n",
      " [1 2 3 4] [1 2 3 4]\n",
      "After change: \n",
      " [111   2   3   4] [111   2   3   4]\n"
     ]
    }
   ],
   "source": [
    "# shallow copies/views create new arrays, but they still reference the original array\n",
    "parent_2 = np.array([1, 2, 3, 4])\n",
    "child_2 = parent_2.view()\n",
    "\n",
    "print(\"Before change: \\n\", parent_2, child_2)\n",
    "\n",
    "child_2[0] = 111\n",
    "\n",
    "print(\"After change: \\n\", parent_2, child_2)\n",
    "\n",
    "# so then what is the difference between a shallow copy/view and simple assignments??"
   ]
  },
  {
   "cell_type": "code",
   "execution_count": 15,
   "metadata": {},
   "outputs": [
    {
     "name": "stdout",
     "output_type": "stream",
     "text": [
      "Before changing value in the deep copied array: \n",
      " [111   2   3   4] [111   2   3   4]\n",
      "After changing values in the copy of parent 2: \n",
      " [9099    2    3    4] [111   2   3   4]\n"
     ]
    }
   ],
   "source": [
    "# Deep copy enirely copies the original dataset as the copy is a separate object and does not refer to the original dataset\n",
    "cop_of_parent_2 = parent_2.copy()\n",
    "cop_of_parent_2 is parent_2\n",
    "\n",
    "print(\"Before changing value in the deep copied array: \\n\", cop_of_parent_2, parent_2)\n",
    "\n",
    "cop_of_parent_2[0] = 9099\n",
    "\n",
    "print(\"After changing values in the copy of parent 2: \\n\", cop_of_parent_2, parent_2)"
   ]
  },
  {
   "cell_type": "code",
   "execution_count": 16,
   "metadata": {},
   "outputs": [
    {
     "name": "stdout",
     "output_type": "stream",
     "text": [
      "Hello world\n"
     ]
    }
   ],
   "source": [
    "print(\"Hello world\")"
   ]
  },
  {
   "cell_type": "code",
   "execution_count": 17,
   "metadata": {},
   "outputs": [
    {
     "name": "stdout",
     "output_type": "stream",
     "text": [
      "[1.         1.41421356 1.73205081 2.        ]\n"
     ]
    }
   ],
   "source": [
    "# some common numpy mathematical examples\n",
    "from numpy import pi\n",
    "\n",
    "arr = np.array([1, 2, 3, 4])\n",
    "print(np.sqrt(arr))"
   ]
  },
  {
   "cell_type": "code",
   "execution_count": 18,
   "metadata": {},
   "outputs": [
    {
     "name": "stdout",
     "output_type": "stream",
     "text": [
      "1.0\n",
      "-1.0\n"
     ]
    }
   ],
   "source": [
    "print(np.cos(0))\n",
    "print(np.cos(pi))"
   ]
  },
  {
   "cell_type": "code",
   "execution_count": 19,
   "metadata": {},
   "outputs": [
    {
     "name": "stdout",
     "output_type": "stream",
     "text": [
      "[[1. 1. 1.]\n",
      " [1. 1. 1.]\n",
      " [1. 1. 1.]]\n",
      "Bringing the ones array into a single row\n",
      "[1. 1. 1. 1. 1. 1. 1. 1. 1.]\n"
     ]
    }
   ],
   "source": [
    "np_ones = np.ones((3, 3))\n",
    "print(np_ones)\n",
    "\n",
    "print(\"Bringing the ones array into a single row\")\n",
    "print(np.ravel(np_ones))"
   ]
  },
  {
   "cell_type": "code",
   "execution_count": 20,
   "metadata": {},
   "outputs": [
    {
     "name": "stdout",
     "output_type": "stream",
     "text": [
      "(3, 4)\n",
      "2\n",
      "12\n",
      "Before reshaping: [[ 1  2  3  4]\n",
      " [ 5  6  7  8]\n",
      " [ 9 10 11 12]].\n",
      "\n",
      "|After reshaping: [[ 1  2]\n",
      " [ 3  4]\n",
      " [ 5  6]\n",
      " [ 7  8]\n",
      " [ 9 10]\n",
      " [11 12]]\n"
     ]
    }
   ],
   "source": [
    "three_by_four = np.array([\n",
    "    [1, 2, 3, 4],\n",
    "    [5, 6, 7, 8],\n",
    "    [9, 10, 11, 12]\n",
    "])\n",
    "\n",
    "print(three_by_four.shape) # (3, 4)\n",
    "print(three_by_four.ndim)  # 2\n",
    "print(three_by_four.size)  # # 12\n",
    "\n",
    "print(f\"Before reshaping: {three_by_four}.\\n\\n|After reshaping: {three_by_four.reshape(6, 2)}\")\n"
   ]
  },
  {
   "cell_type": "code",
   "execution_count": 22,
   "metadata": {},
   "outputs": [],
   "source": [
    "# import webbrowser\n",
    "# webbrowser.open(\"https://tesla.com\")\n",
    "\n"
   ]
  },
  {
   "cell_type": "code",
   "execution_count": 24,
   "metadata": {},
   "outputs": [
    {
     "name": "stdout",
     "output_type": "stream",
     "text": [
      "[ 0.2  0.5  6.  32. ]\n"
     ]
    }
   ],
   "source": [
    "# Numpy uses broadcasting to perform aritchmetic operations on arrays of different sizes\n",
    "\n",
    "# example\n",
    "a = np.array([1, 2, 3, 4])\n",
    "b = np.array([0.2, 0.5, 6, 32])\n",
    "\n"
   ]
  },
  {
   "cell_type": "code",
   "execution_count": 6,
   "metadata": {},
   "outputs": [
    {
     "name": "stdout",
     "output_type": "stream",
     "text": [
      "<U21\n"
     ]
    }
   ],
   "source": [
    "import numpy as np\n",
    "tt = np.array([1, 2, True, \"Nice\", \"Emeka\", 33, 3, ])\n",
    "print(tt.dtype)"
   ]
  },
  {
   "cell_type": "code",
   "execution_count": 7,
   "metadata": {},
   "outputs": [
    {
     "name": "stdout",
     "output_type": "stream",
     "text": [
      "[1 2 3 4]\n"
     ]
    }
   ],
   "source": [
    "print(np.transpose([1, 2, 3, 4]))"
   ]
  },
  {
   "cell_type": "code",
   "execution_count": 1,
   "metadata": {},
   "outputs": [
    {
     "name": "stdout",
     "output_type": "stream",
     "text": [
      "Consistency is key\n"
     ]
    }
   ],
   "source": [
    "# from now, we start learning to use SciPy\n",
    "print(\"Consistency is key\")\n"
   ]
  },
  {
   "cell_type": "code",
   "execution_count": 2,
   "metadata": {},
   "outputs": [
    {
     "name": "stdout",
     "output_type": "stream",
     "text": [
      "Software engineer at intel this coming fall semester??\n"
     ]
    }
   ],
   "source": [
    "print(\"Software engineer at intel this coming fall semester??\")"
   ]
  },
  {
   "cell_type": "code",
   "execution_count": null,
   "metadata": {},
   "outputs": [],
   "source": []
  }
 ],
 "metadata": {
  "interpreter": {
   "hash": "9b84b2540e3bb9aa6d052e2eaca687d205b2d6ae139f49b996e97da01605e7e7"
  },
  "kernelspec": {
   "display_name": "Python 3.9.7 ('numpy_env': venv)",
   "language": "python",
   "name": "python3"
  },
  "language_info": {
   "codemirror_mode": {
    "name": "ipython",
    "version": 3
   },
   "file_extension": ".py",
   "mimetype": "text/x-python",
   "name": "python",
   "nbconvert_exporter": "python",
   "pygments_lexer": "ipython3",
   "version": "3.9.7"
  }
 },
 "nbformat": 4,
 "nbformat_minor": 1
}
