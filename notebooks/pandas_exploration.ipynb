{
 "cells": [
  {
   "cell_type": "code",
   "execution_count": 23,
   "metadata": {
    "collapsed": false,
    "pycharm": {
     "name": "#%%\n"
    }
   },
   "outputs": [],
   "source": [
    "import pandas as pd\n",
    "import numpy as np"
   ]
  },
  {
   "cell_type": "code",
   "execution_count": 24,
   "metadata": {
    "collapsed": false,
    "pycharm": {
     "name": "#%%\n"
    }
   },
   "outputs": [
    {
     "name": "stdout",
     "output_type": "stream",
     "text": [
      "[1. 1. 1. 1. 1. 1. 1. 1. 1.]\n",
      "0    1\n",
      "1    2\n",
      "2    3\n",
      "3    4\n",
      "dtype: int64\n"
     ]
    }
   ],
   "source": [
    "tt = pd.Series([1, 2, 3, 4])\n",
    "print(np.ones((3, 3)).ravel())\n",
    "print(tt)"
   ]
  },
  {
   "cell_type": "code",
   "execution_count": 25,
   "metadata": {
    "collapsed": false,
    "pycharm": {
     "name": "#%%\n"
    }
   },
   "outputs": [
    {
     "name": "stdout",
     "output_type": "stream",
     "text": [
      "0      kamsi\n",
      "1    chidera\n",
      "2    salinha\n",
      "3        mom\n",
      "4        dad\n",
      "dtype: object\n"
     ]
    }
   ],
   "source": [
    "#_index = list(\"emeka\")\n",
    "emeka_series = pd.Series([\"kamsi\", \"chidera\", \"salinha\", \"mom\", \"dad\"])\n",
    "print(emeka_series)"
   ]
  },
  {
   "cell_type": "code",
   "execution_count": 26,
   "metadata": {},
   "outputs": [
    {
     "name": "stdout",
     "output_type": "stream",
     "text": [
      "19\n",
      "Nnaemeka    20\n",
      "Kamsi       19\n",
      "Dozie       19\n",
      "dtype: int64\n"
     ]
    }
   ],
   "source": [
    "family_memebrs = np.array([\"Nnaemeka\", \"Kamsi\", \"Dozie\", \"Chidera\"])\n",
    "ages = np.array([20, 19, 19, 21])\n",
    "\n",
    "# use the name as the index, and the age as the actual data\n",
    "family_memebrs_age_map = pd.Series(ages, index=family_memebrs)\n",
    "print(family_memebrs_age_map[\"Kamsi\"])\n",
    "print(family_memebrs_age_map[0:3])"
   ]
  },
  {
   "cell_type": "code",
   "execution_count": 27,
   "metadata": {},
   "outputs": [
    {
     "name": "stdout",
     "output_type": "stream",
     "text": [
      "1    N\n",
      "2    n\n",
      "3    a\n",
      "3    e\n",
      "4    m\n",
      "5    e\n",
      "5    k\n",
      "6    a\n",
      "dtype: object\n",
      "5    e\n",
      "5    k\n",
      "dtype: object\n",
      "5    e\n",
      "5    k\n",
      "dtype: object\n",
      "e\n"
     ]
    },
    {
     "data": {
      "text/plain": [
       "'\\nRule of thumb: If you want the element at the fifth index, used iloc - index location\\nusing loc will print duplicates if there are duplicate indexes\\n'"
      ]
     },
     "execution_count": 27,
     "metadata": {},
     "output_type": "execute_result"
    }
   ],
   "source": [
    "second = pd.Series(list(\"Nnaemeka\"), index=[1, 2, 3, 3, 4, 5, 5, 6])\n",
    "print(second)\n",
    "print(second[5])        # prints eveyrthing with an index value of '5'\n",
    "print(second.loc[5])    # same as doing second[5]\n",
    "print(second.iloc[5])   # now this goes to the index location of 5 an dprints the thing there \n",
    "\n",
    "'''\n",
    "Rule of thumb: If you want the element at the fifth index, used iloc - index location\n",
    "using loc will print duplicates if there are duplicate indexes\n",
    "'''"
   ]
  },
  {
   "cell_type": "code",
   "execution_count": 28,
   "metadata": {},
   "outputs": [
    {
     "name": "stdout",
     "output_type": "stream",
     "text": [
      "a     6\n",
      "b     8\n",
      "c    10\n",
      "d    12\n",
      "dtype: int64\n",
      "a    5.0\n",
      "b    4.0\n",
      "c    NaN\n",
      "d    NaN\n",
      "f    NaN\n",
      "v    NaN\n",
      "dtype: float64\n"
     ]
    }
   ],
   "source": [
    "# adding stuff happens based on indexes\n",
    "vec1 = pd.Series([1, 2, 3, 4], index=list('abcd'))\n",
    "vec2 = pd.Series([5, 6, 7, 8], index=list('abcd'))\n",
    "vec3 = pd.Series([4, 3, 2, 1], index=list('avbf'))\n",
    "\n",
    "print(vec1 + vec2)\n",
    "print(vec1 + vec3) # ones with differing index values will result in NaN"
   ]
  },
  {
   "cell_type": "code",
   "execution_count": 29,
   "metadata": {},
   "outputs": [
    {
     "name": "stdout",
     "output_type": "stream",
     "text": [
      "1    1\n",
      "2    2\n",
      "3    3\n",
      "4    4\n",
      "dtype: int64\n"
     ]
    }
   ],
   "source": [
    "vec1\n",
    "vec1.index=[1, 2, 3, 4]\n",
    "print(vec1)"
   ]
  },
  {
   "cell_type": "code",
   "execution_count": 30,
   "metadata": {},
   "outputs": [],
   "source": [
    "### DATAFRAMES"
   ]
  },
  {
   "cell_type": "code",
   "execution_count": 36,
   "metadata": {},
   "outputs": [
    {
     "name": "stdout",
     "output_type": "stream",
     "text": [
      "   HostCity  Year  No. of participating Countries\n",
      "0    London  2012                             205\n",
      "1   Beijung  2008                             204\n",
      "2    Athens  2004                             201\n",
      "3    Sydney  2000                             200\n",
      "4  Atalanta  1996                             197\n",
      "0      London\n",
      "1     Beijung\n",
      "2      Athens\n",
      "3      Sydney\n",
      "4    Atalanta\n",
      "Name: HostCity, dtype: object\n"
     ]
    }
   ],
   "source": [
    "olympic_data_dict = {\n",
    "    'HostCity': ['London', 'Beijung', 'Athens', 'Sydney', 'Atalanta'],\n",
    "    'Year': [2012, 2008, 2004, 2000, 1996],\n",
    "    'No. of participating Countries': [205, 204, 201, 200, 197]\n",
    "}\n",
    "\n",
    "# make the datFrame from this object\n",
    "df_olympic_data = pd.DataFrame(olympic_data_dict)\n",
    "print(df_olympic_data)\n",
    "print(df_olympic_data[\"HostCity\"])"
   ]
  },
  {
   "cell_type": "markdown",
   "metadata": {},
   "source": [
    "\n"
   ]
  },
  {
   "cell_type": "code",
   "execution_count": 38,
   "metadata": {},
   "outputs": [
    {
     "name": "stdout",
     "output_type": "stream",
     "text": [
      "            ages\n",
      "count   4.000000\n",
      "mean   28.750000\n",
      "std     6.075909\n",
      "min    20.000000\n",
      "25%    27.500000\n",
      "50%    30.500000\n",
      "75%    31.750000\n",
      "max    34.000000\n"
     ]
    }
   ],
   "source": [
    "my_df = {\n",
    "    \"names\": [\"Emeka\", \"Salinha\", \"kamsi\", \"amjad\"],\n",
    "    \"ages\": [20, 30, 34, 31]\n",
    "}\n",
    "\n",
    "df = pd.DataFrame(my_df)\n",
    "print(df.describe())"
   ]
  },
  {
   "cell_type": "code",
   "execution_count": 39,
   "metadata": {},
   "outputs": [
    {
     "data": {
      "text/html": [
       "<div>\n",
       "<style scoped>\n",
       "    .dataframe tbody tr th:only-of-type {\n",
       "        vertical-align: middle;\n",
       "    }\n",
       "\n",
       "    .dataframe tbody tr th {\n",
       "        vertical-align: top;\n",
       "    }\n",
       "\n",
       "    .dataframe thead th {\n",
       "        text-align: right;\n",
       "    }\n",
       "</style>\n",
       "<table border=\"1\" class=\"dataframe\">\n",
       "  <thead>\n",
       "    <tr style=\"text-align: right;\">\n",
       "      <th></th>\n",
       "      <th>names</th>\n",
       "      <th>ages</th>\n",
       "    </tr>\n",
       "  </thead>\n",
       "  <tbody>\n",
       "    <tr>\n",
       "      <th>0</th>\n",
       "      <td>Emeka</td>\n",
       "      <td>20</td>\n",
       "    </tr>\n",
       "    <tr>\n",
       "      <th>1</th>\n",
       "      <td>Salinha</td>\n",
       "      <td>30</td>\n",
       "    </tr>\n",
       "  </tbody>\n",
       "</table>\n",
       "</div>"
      ],
      "text/plain": [
       "     names  ages\n",
       "0    Emeka    20\n",
       "1  Salinha    30"
      ]
     },
     "execution_count": 39,
     "metadata": {},
     "output_type": "execute_result"
    }
   ],
   "source": [
    "# view the two top rows\n",
    "df.head(2)"
   ]
  },
  {
   "cell_type": "code",
   "execution_count": 40,
   "metadata": {},
   "outputs": [
    {
     "data": {
      "text/html": [
       "<div>\n",
       "<style scoped>\n",
       "    .dataframe tbody tr th:only-of-type {\n",
       "        vertical-align: middle;\n",
       "    }\n",
       "\n",
       "    .dataframe tbody tr th {\n",
       "        vertical-align: top;\n",
       "    }\n",
       "\n",
       "    .dataframe thead th {\n",
       "        text-align: right;\n",
       "    }\n",
       "</style>\n",
       "<table border=\"1\" class=\"dataframe\">\n",
       "  <thead>\n",
       "    <tr style=\"text-align: right;\">\n",
       "      <th></th>\n",
       "      <th>names</th>\n",
       "      <th>ages</th>\n",
       "    </tr>\n",
       "  </thead>\n",
       "  <tbody>\n",
       "    <tr>\n",
       "      <th>1</th>\n",
       "      <td>Salinha</td>\n",
       "      <td>30</td>\n",
       "    </tr>\n",
       "    <tr>\n",
       "      <th>2</th>\n",
       "      <td>kamsi</td>\n",
       "      <td>34</td>\n",
       "    </tr>\n",
       "    <tr>\n",
       "      <th>3</th>\n",
       "      <td>amjad</td>\n",
       "      <td>31</td>\n",
       "    </tr>\n",
       "  </tbody>\n",
       "</table>\n",
       "</div>"
      ],
      "text/plain": [
       "     names  ages\n",
       "1  Salinha    30\n",
       "2    kamsi    34\n",
       "3    amjad    31"
      ]
     },
     "execution_count": 40,
     "metadata": {},
     "output_type": "execute_result"
    }
   ],
   "source": [
    "# view the three bottom rows\n",
    "df.tail(3)"
   ]
  },
  {
   "cell_type": "code",
   "execution_count": 41,
   "metadata": {},
   "outputs": [
    {
     "data": {
      "text/plain": [
       "RangeIndex(start=0, stop=4, step=1)"
      ]
     },
     "execution_count": 41,
     "metadata": {},
     "output_type": "execute_result"
    }
   ],
   "source": [
    "# view the index\n",
    "df.index"
   ]
  },
  {
   "cell_type": "code",
   "execution_count": 66,
   "metadata": {},
   "outputs": [
    {
     "data": {
      "text/plain": [
       "Index(['names', 'ages'], dtype='object')"
      ]
     },
     "execution_count": 66,
     "metadata": {},
     "output_type": "execute_result"
    }
   ],
   "source": [
    "# to view all the columns:\n",
    "df.columns\n",
    "\n",
    "# this could be very useful when you are asked\n",
    "# to for example find the number of features in an ml project\n",
    "# these are the skills you will need when analyzing \n",
    "# and cleaning data\n"
   ]
  },
  {
   "cell_type": "code",
   "execution_count": null,
   "metadata": {},
   "outputs": [],
   "source": []
  }
 ],
 "metadata": {
  "kernelspec": {
   "display_name": "Python 3.9.7 ('numpy_env': venv)",
   "language": "python",
   "name": "python3"
  },
  "language_info": {
   "codemirror_mode": {
    "name": "ipython",
    "version": 3
   },
   "file_extension": ".py",
   "mimetype": "text/x-python",
   "name": "python",
   "nbconvert_exporter": "python",
   "pygments_lexer": "ipython3",
   "version": "3.9.7"
  },
  "vscode": {
   "interpreter": {
    "hash": "9b84b2540e3bb9aa6d052e2eaca687d205b2d6ae139f49b996e97da01605e7e7"
   }
  }
 },
 "nbformat": 4,
 "nbformat_minor": 0
}
