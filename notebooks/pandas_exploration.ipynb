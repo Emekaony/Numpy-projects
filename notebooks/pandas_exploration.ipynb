{
 "cells": [
  {
   "cell_type": "code",
   "execution_count": 1,
   "metadata": {
    "collapsed": false,
    "pycharm": {
     "name": "#%%\n"
    }
   },
   "outputs": [],
   "source": [
    "import pandas as pd\n",
    "import numpy as np"
   ]
  },
  {
   "cell_type": "code",
   "execution_count": 2,
   "metadata": {
    "collapsed": false,
    "pycharm": {
     "name": "#%%\n"
    }
   },
   "outputs": [
    {
     "name": "stdout",
     "output_type": "stream",
     "text": [
      "[1. 1. 1. 1. 1. 1. 1. 1. 1.]\n",
      "0    1\n",
      "1    2\n",
      "2    3\n",
      "3    4\n",
      "dtype: int64\n"
     ]
    }
   ],
   "source": [
    "tt = pd.Series([1, 2, 3, 4])\n",
    "print(np.ones((3, 3)).ravel())\n",
    "print(tt)"
   ]
  },
  {
   "cell_type": "code",
   "execution_count": 3,
   "outputs": [
    {
     "name": "stdout",
     "output_type": "stream",
     "text": [
      "0      kamsi\n",
      "1    chidera\n",
      "2    salinha\n",
      "3        mom\n",
      "4        dad\n",
      "dtype: object\n"
     ]
    }
   ],
   "source": [
    "#_index = list(\"emeka\")\n",
    "emeka_series = pd.Series([\"kamsi\", \"chidera\", \"salinha\", \"mom\", \"dad\"])\n",
    "print(emeka_series)"
   ],
   "metadata": {
    "collapsed": false,
    "pycharm": {
     "name": "#%%\n"
    }
   }
  },
  {
   "cell_type": "code",
   "execution_count": 4,
   "outputs": [
    {
     "name": "stdout",
     "output_type": "stream",
     "text": [
      "19\n",
      "Nnaemeka    20\n",
      "Kamsi       19\n",
      "Dozie       19\n",
      "dtype: int64\n"
     ]
    }
   ],
   "source": [
    "family_memebrs = np.array([\"Nnaemeka\", \"Kamsi\", \"Dozie\", \"Chidera\"])\n",
    "ages = np.array([20, 19, 19, 21])\n",
    "\n",
    "# use the name as the index, and the age as the actual data\n",
    "family_memebrs_age_map = pd.Series(ages, index=family_memebrs)\n",
    "print(family_memebrs_age_map[\"Kamsi\"])\n",
    "print(family_memebrs_age_map[0:3])"
   ],
   "metadata": {
    "collapsed": false,
    "pycharm": {
     "name": "#%%\n"
    }
   }
  },
  {
   "cell_type": "code",
   "execution_count": 5,
   "outputs": [
    {
     "name": "stdout",
     "output_type": "stream",
     "text": [
      "1    N\n",
      "2    n\n",
      "3    a\n",
      "3    e\n",
      "4    m\n",
      "5    e\n",
      "5    k\n",
      "6    a\n",
      "dtype: object\n",
      "5    e\n",
      "5    k\n",
      "dtype: object\n",
      "5    e\n",
      "5    k\n",
      "dtype: object\n",
      "e\n"
     ]
    },
    {
     "data": {
      "text/plain": "'\\nRule of thumb: If you want the element at the fifth index, used iloc - index location\\nusing loc will print duplicates if there are duplicate indexes\\n'"
     },
     "execution_count": 5,
     "metadata": {},
     "output_type": "execute_result"
    }
   ],
   "source": [
    "second = pd.Series(list(\"Nnaemeka\"), index=[1, 2, 3, 3, 4, 5, 5, 6])\n",
    "print(second)\n",
    "print(second[5])        # prints eveyrthing with an index value of '5'\n",
    "print(second.loc[5])    # same as doing second[5]\n",
    "print(second.iloc[5])   # now this goes to the index location of 5 an dprints the thing there \n",
    "\n",
    "'''\n",
    "Rule of thumb: If you want the element at the fifth index, used iloc - index location\n",
    "using loc will print duplicates if there are duplicate indexes\n",
    "'''"
   ],
   "metadata": {
    "collapsed": false,
    "pycharm": {
     "name": "#%%\n"
    }
   }
  },
  {
   "cell_type": "code",
   "execution_count": 6,
   "outputs": [
    {
     "name": "stdout",
     "output_type": "stream",
     "text": [
      "a     6\n",
      "b     8\n",
      "c    10\n",
      "d    12\n",
      "dtype: int64\n",
      "a    5.0\n",
      "b    4.0\n",
      "c    NaN\n",
      "d    NaN\n",
      "f    NaN\n",
      "v    NaN\n",
      "dtype: float64\n"
     ]
    }
   ],
   "source": [
    "# adding stuff happens based on indexes\n",
    "vec1 = pd.Series([1, 2, 3, 4], index=list('abcd'))\n",
    "vec2 = pd.Series([5, 6, 7, 8], index=list('abcd'))\n",
    "vec3 = pd.Series([4, 3, 2, 1], index=list('avbf'))\n",
    "\n",
    "print(vec1 + vec2)\n",
    "print(vec1 + vec3) # ones with differing index values will result in NaN"
   ],
   "metadata": {
    "collapsed": false,
    "pycharm": {
     "name": "#%%\n"
    }
   }
  },
  {
   "cell_type": "code",
   "execution_count": 7,
   "outputs": [
    {
     "name": "stdout",
     "output_type": "stream",
     "text": [
      "1    1\n",
      "2    2\n",
      "3    3\n",
      "4    4\n",
      "dtype: int64\n"
     ]
    }
   ],
   "source": [
    "vec1\n",
    "vec1.index=[1, 2, 3, 4]\n",
    "print(vec1)"
   ],
   "metadata": {
    "collapsed": false,
    "pycharm": {
     "name": "#%%\n"
    }
   }
  },
  {
   "cell_type": "code",
   "execution_count": 8,
   "outputs": [],
   "source": [
    "### DATAFRAMES"
   ],
   "metadata": {
    "collapsed": false,
    "pycharm": {
     "name": "#%%\n"
    }
   }
  },
  {
   "cell_type": "code",
   "execution_count": 9,
   "outputs": [
    {
     "name": "stdout",
     "output_type": "stream",
     "text": [
      "   HostCity  Year  No. of participating Countries\n",
      "0    London  2012                             205\n",
      "1   Beijung  2008                             204\n",
      "2    Athens  2004                             201\n",
      "3    Sydney  2000                             200\n",
      "4  Atalanta  1996                             197\n",
      "0      London\n",
      "1     Beijung\n",
      "2      Athens\n",
      "3      Sydney\n",
      "4    Atalanta\n",
      "Name: HostCity, dtype: object\n"
     ]
    }
   ],
   "source": [
    "olympic_data_dict = {\n",
    "    'HostCity': ['London', 'Beijung', 'Athens', 'Sydney', 'Atalanta'],\n",
    "    'Year': [2012, 2008, 2004, 2000, 1996],\n",
    "    'No. of participating Countries': [205, 204, 201, 200, 197]\n",
    "}\n",
    "\n",
    "# make the datFrame from this object\n",
    "df_olympic_data = pd.DataFrame(olympic_data_dict)\n",
    "print(df_olympic_data)\n",
    "print(df_olympic_data[\"HostCity\"])"
   ],
   "metadata": {
    "collapsed": false,
    "pycharm": {
     "name": "#%%\n"
    }
   }
  },
  {
   "cell_type": "markdown",
   "source": [
    "\n"
   ],
   "metadata": {
    "collapsed": false,
    "pycharm": {
     "name": "#%% md\n"
    }
   }
  },
  {
   "cell_type": "code",
   "execution_count": 10,
   "outputs": [
    {
     "name": "stdout",
     "output_type": "stream",
     "text": [
      "            ages\n",
      "count   4.000000\n",
      "mean   28.750000\n",
      "std     6.075909\n",
      "min    20.000000\n",
      "25%    27.500000\n",
      "50%    30.500000\n",
      "75%    31.750000\n",
      "max    34.000000\n"
     ]
    }
   ],
   "source": [
    "my_df = {\n",
    "    \"names\": [\"Emeka\", \"Salinha\", \"kamsi\", \"amjad\"],\n",
    "    \"ages\": [20, 30, 34, 31]\n",
    "}\n",
    "\n",
    "df = pd.DataFrame(my_df)\n",
    "print(df.describe())"
   ],
   "metadata": {
    "collapsed": false,
    "pycharm": {
     "name": "#%%\n"
    }
   }
  },
  {
   "cell_type": "code",
   "execution_count": 11,
   "outputs": [
    {
     "data": {
      "text/plain": "     names  ages\n0    Emeka    20\n1  Salinha    30",
      "text/html": "<div>\n<style scoped>\n    .dataframe tbody tr th:only-of-type {\n        vertical-align: middle;\n    }\n\n    .dataframe tbody tr th {\n        vertical-align: top;\n    }\n\n    .dataframe thead th {\n        text-align: right;\n    }\n</style>\n<table border=\"1\" class=\"dataframe\">\n  <thead>\n    <tr style=\"text-align: right;\">\n      <th></th>\n      <th>names</th>\n      <th>ages</th>\n    </tr>\n  </thead>\n  <tbody>\n    <tr>\n      <th>0</th>\n      <td>Emeka</td>\n      <td>20</td>\n    </tr>\n    <tr>\n      <th>1</th>\n      <td>Salinha</td>\n      <td>30</td>\n    </tr>\n  </tbody>\n</table>\n</div>"
     },
     "execution_count": 11,
     "metadata": {},
     "output_type": "execute_result"
    }
   ],
   "source": [
    "# view the two top rows\n",
    "df.head(2)"
   ],
   "metadata": {
    "collapsed": false,
    "pycharm": {
     "name": "#%%\n"
    }
   }
  },
  {
   "cell_type": "code",
   "execution_count": 12,
   "outputs": [
    {
     "data": {
      "text/plain": "     names  ages\n1  Salinha    30\n2    kamsi    34\n3    amjad    31",
      "text/html": "<div>\n<style scoped>\n    .dataframe tbody tr th:only-of-type {\n        vertical-align: middle;\n    }\n\n    .dataframe tbody tr th {\n        vertical-align: top;\n    }\n\n    .dataframe thead th {\n        text-align: right;\n    }\n</style>\n<table border=\"1\" class=\"dataframe\">\n  <thead>\n    <tr style=\"text-align: right;\">\n      <th></th>\n      <th>names</th>\n      <th>ages</th>\n    </tr>\n  </thead>\n  <tbody>\n    <tr>\n      <th>1</th>\n      <td>Salinha</td>\n      <td>30</td>\n    </tr>\n    <tr>\n      <th>2</th>\n      <td>kamsi</td>\n      <td>34</td>\n    </tr>\n    <tr>\n      <th>3</th>\n      <td>amjad</td>\n      <td>31</td>\n    </tr>\n  </tbody>\n</table>\n</div>"
     },
     "execution_count": 12,
     "metadata": {},
     "output_type": "execute_result"
    }
   ],
   "source": [
    "# view the three bottom rows\n",
    "df.tail(3)"
   ],
   "metadata": {
    "collapsed": false,
    "pycharm": {
     "name": "#%%\n"
    }
   }
  },
  {
   "cell_type": "code",
   "execution_count": 13,
   "outputs": [
    {
     "data": {
      "text/plain": "RangeIndex(start=0, stop=4, step=1)"
     },
     "execution_count": 13,
     "metadata": {},
     "output_type": "execute_result"
    }
   ],
   "source": [
    "# view the index\n",
    "df.index"
   ],
   "metadata": {
    "collapsed": false,
    "pycharm": {
     "name": "#%%\n"
    }
   }
  },
  {
   "cell_type": "code",
   "execution_count": 14,
   "outputs": [
    {
     "data": {
      "text/plain": "Index(['names', 'ages'], dtype='object')"
     },
     "execution_count": 14,
     "metadata": {},
     "output_type": "execute_result"
    }
   ],
   "source": [
    "# to view all the columns:\n",
    "df.columns\n",
    "\n",
    "# this could be very useful when you are asked\n",
    "# to for example find the number of features in an ml project\n",
    "# these are the skills you will need when analyzing \n",
    "# and cleaning data\n"
   ],
   "metadata": {
    "collapsed": false,
    "pycharm": {
     "name": "#%%\n"
    }
   }
  },
  {
   "cell_type": "code",
   "execution_count": 19,
   "outputs": [],
   "source": [
    "# declare first series\n",
    "first_series = pd.Series(np.array([1, 2, 3, 4, 5]), index=list('abcde'))"
   ],
   "metadata": {
    "collapsed": false,
    "pycharm": {
     "name": "#%%\n"
    }
   }
  },
  {
   "cell_type": "code",
   "execution_count": 21,
   "outputs": [],
   "source": [
    "# declare second series\n",
    "second_series = pd.Series(np.array([10, 20, 30, 40, 50]), index=list('cefgh'))"
   ],
   "metadata": {
    "collapsed": false,
    "pycharm": {
     "name": "#%%\n"
    }
   }
  },
  {
   "cell_type": "code",
   "execution_count": 24,
   "outputs": [
    {
     "name": "stdout",
     "output_type": "stream",
     "text": [
      "a     NaN\n",
      "b     NaN\n",
      "c    13.0\n",
      "d     NaN\n",
      "e    25.0\n",
      "f     NaN\n",
      "g     NaN\n",
      "h     NaN\n",
      "dtype: float64\n"
     ]
    }
   ],
   "source": [
    "sum_of_series = first_series + second_series\n",
    "print(sum_of_series)"
   ],
   "metadata": {
    "collapsed": false,
    "pycharm": {
     "name": "#%%\n"
    }
   }
  },
  {
   "cell_type": "code",
   "execution_count": 26,
   "outputs": [
    {
     "name": "stdout",
     "output_type": "stream",
     "text": [
      "c    13.0\n",
      "e    25.0\n",
      "dtype: float64\n",
      "a     NaN\n",
      "b     NaN\n",
      "c    13.0\n",
      "d     NaN\n",
      "e    25.0\n",
      "f     NaN\n",
      "g     NaN\n",
      "h     NaN\n",
      "dtype: float64\n"
     ]
    }
   ],
   "source": [
    "dropped_na_sum = sum_of_series.dropna()\n",
    "print(dropped_na_sum)\n",
    "print(sum_of_series)"
   ],
   "metadata": {
    "collapsed": false,
    "pycharm": {
     "name": "#%%\n"
    }
   }
  },
  {
   "cell_type": "code",
   "execution_count": 27,
   "outputs": [
    {
     "name": "stdout",
     "output_type": "stream",
     "text": [
      "a     1.0\n",
      "b     1.0\n",
      "c    13.0\n",
      "d     1.0\n",
      "e    25.0\n",
      "f     1.0\n",
      "g     1.0\n",
      "h     1.0\n",
      "dtype: float64\n"
     ]
    }
   ],
   "source": [
    "# instead of dropping the values with NaN, we can\n",
    "# fillt hem up with a default value like 0 or 1\n",
    "filled_sum = sum_of_series.fillna(1)\n",
    "print(filled_sum)"
   ],
   "metadata": {
    "collapsed": false,
    "pycharm": {
     "name": "#%%\n"
    }
   }
  },
  {
   "cell_type": "code",
   "execution_count": 30,
   "outputs": [
    {
     "name": "stdout",
     "output_type": "stream",
     "text": [
      "a     2.0\n",
      "b     3.0\n",
      "c    13.0\n",
      "d     5.0\n",
      "e    25.0\n",
      "f    31.0\n",
      "g    41.0\n",
      "h    51.0\n",
      "dtype: float64\n"
     ]
    }
   ],
   "source": [
    "# you can also fill them up before you even do any computation\n",
    "filled_prior_to_addition = first_series.add(second_series, fill_value=1)\n",
    "print(filled_prior_to_addition)\n",
    "\n",
    "# be aware that this method will not have the same results as the last one\n",
    "# this one fills in the NaN values before doing the addition\n",
    "# the method you use will depend on the severity of the data at hand\n",
    "# and also the situation. It is good to know how to deal with these cases in multiple ways."
   ],
   "metadata": {
    "collapsed": false,
    "pycharm": {
     "name": "#%%\n"
    }
   }
  },
  {
   "cell_type": "code",
   "execution_count": null,
   "outputs": [],
   "source": [],
   "metadata": {
    "collapsed": false,
    "pycharm": {
     "name": "#%%\n"
    }
   }
  },
  {
   "cell_type": "code",
   "execution_count": 6,
   "metadata": {
    "pycharm": {
     "name": "#%%\n"
    }
   },
   "outputs": [
    {
     "name": "stdout",
     "output_type": "stream",
     "text": [
      "1    N\n",
      "2    n\n",
      "3    a\n",
      "3    e\n",
      "4    m\n",
      "5    e\n",
      "5    k\n",
      "6    a\n",
      "dtype: object\n",
      "5    e\n",
      "5    k\n",
      "dtype: object\n",
      "5    e\n",
      "5    k\n",
      "dtype: object\n",
      "e\n"
     ]
    },
    {
     "data": {
      "text/plain": [
       "'\\nRule of thumb: If you want the element at the fifth index, used iloc - index location\\nusing loc will print duplicates if there are duplicate indexes\\n'"
      ]
     },
     "execution_count": 6,
     "metadata": {},
     "output_type": "execute_result"
    }
   ],
   "source": [
    "second = pd.Series(list(\"Nnaemeka\"), index=[1, 2, 3, 3, 4, 5, 5, 6])\n",
    "print(second)\n",
    "print(second[5])        # prints eveyrthing with an index value of '5'\n",
    "print(second.loc[5])    # same as doing second[5]\n",
    "print(second.iloc[5])   # now this goes to the index location of 5 an dprints the thing there \n",
    "\n",
    "'''\n",
    "Rule of thumb: If you want the element at the fifth index, used iloc - index location\n",
    "using loc will print duplicates if there are duplicate indexes\n",
    "'''"
   ]
  },
  {
   "cell_type": "code",
   "execution_count": 7,
   "metadata": {
    "pycharm": {
     "name": "#%%\n"
    }
   },
   "outputs": [
    {
     "name": "stdout",
     "output_type": "stream",
     "text": [
      "a     6\n",
      "b     8\n",
      "c    10\n",
      "d    12\n",
      "dtype: int64\n",
      "a    5.0\n",
      "b    4.0\n",
      "c    NaN\n",
      "d    NaN\n",
      "f    NaN\n",
      "v    NaN\n",
      "dtype: float64\n"
     ]
    }
   ],
   "source": [
    "# adding stuff happens based on indexes\n",
    "vec1 = pd.Series([1, 2, 3, 4], index=list('abcd'))\n",
    "vec2 = pd.Series([5, 6, 7, 8], index=list('abcd'))\n",
    "vec3 = pd.Series([4, 3, 2, 1], index=list('avbf'))\n",
    "\n",
    "print(vec1 + vec2)\n",
    "print(vec1 + vec3) # ones with differing index values will result in NaN"
   ]
  },
  {
   "cell_type": "code",
   "execution_count": 8,
   "metadata": {
    "pycharm": {
     "name": "#%%\n"
    }
   },
   "outputs": [
    {
     "name": "stdout",
     "output_type": "stream",
     "text": [
      "1    1\n",
      "2    2\n",
      "3    3\n",
      "4    4\n",
      "dtype: int64\n"
     ]
    }
   ],
   "source": [
    "vec1\n",
    "vec1.index=[1, 2, 3, 4]\n",
    "print(vec1)"
   ]
  },
  {
   "cell_type": "code",
   "execution_count": 9,
   "metadata": {
    "pycharm": {
     "name": "#%%\n"
    }
   },
   "outputs": [],
   "source": [
    "### DATAFRAMES"
   ]
  },
  {
   "cell_type": "code",
   "execution_count": 10,
   "metadata": {
    "pycharm": {
     "name": "#%%\n"
    }
   },
   "outputs": [
    {
     "name": "stdout",
     "output_type": "stream",
     "text": [
      "   HostCity  Year  No. of participating Countries\n",
      "0    London  2012                             205\n",
      "1   Beijung  2008                             204\n",
      "2    Athens  2004                             201\n",
      "3    Sydney  2000                             200\n",
      "4  Atalanta  1996                             197\n",
      "0      London\n",
      "1     Beijung\n",
      "2      Athens\n",
      "3      Sydney\n",
      "4    Atalanta\n",
      "Name: HostCity, dtype: object\n"
     ]
    }
   ],
   "source": [
    "olympic_data_dict = {\n",
    "    'HostCity': ['London', 'Beijung', 'Athens', 'Sydney', 'Atalanta'],\n",
    "    'Year': [2012, 2008, 2004, 2000, 1996],\n",
    "    'No. of participating Countries': [205, 204, 201, 200, 197]\n",
    "}\n",
    "\n",
    "# make the datFrame from this object\n",
    "df_olympic_data = pd.DataFrame(olympic_data_dict)\n",
    "print(df_olympic_data)\n",
    "print(df_olympic_data[\"HostCity\"])"
   ]
  },
  {
   "cell_type": "markdown",
   "metadata": {
    "pycharm": {
     "name": "#%% md\n"
    }
   },
   "source": [
    "\n"
   ]
  },
  {
   "cell_type": "code",
   "execution_count": 11,
   "metadata": {
    "pycharm": {
     "name": "#%%\n"
    }
   },
   "outputs": [
    {
     "name": "stdout",
     "output_type": "stream",
     "text": [
      "            ages\n",
      "count   4.000000\n",
      "mean   28.750000\n",
      "std     6.075909\n",
      "min    20.000000\n",
      "25%    27.500000\n",
      "50%    30.500000\n",
      "75%    31.750000\n",
      "max    34.000000\n"
     ]
    }
   ],
   "source": [
    "my_df = {\n",
    "    \"names\": [\"Emeka\", \"Salinha\", \"kamsi\", \"amjad\"],\n",
    "    \"ages\": [20, 30, 34, 31]\n",
    "}\n",
    "\n",
    "df = pd.DataFrame(my_df)\n",
    "print(df.describe())"
   ]
  },
  {
   "cell_type": "code",
   "execution_count": 12,
   "metadata": {
    "pycharm": {
     "name": "#%%\n"
    }
   },
   "outputs": [
    {
     "data": {
      "text/html": [
       "<div>\n",
       "<style scoped>\n",
       "    .dataframe tbody tr th:only-of-type {\n",
       "        vertical-align: middle;\n",
       "    }\n",
       "\n",
       "    .dataframe tbody tr th {\n",
       "        vertical-align: top;\n",
       "    }\n",
       "\n",
       "    .dataframe thead th {\n",
       "        text-align: right;\n",
       "    }\n",
       "</style>\n",
       "<table border=\"1\" class=\"dataframe\">\n",
       "  <thead>\n",
       "    <tr style=\"text-align: right;\">\n",
       "      <th></th>\n",
       "      <th>names</th>\n",
       "      <th>ages</th>\n",
       "    </tr>\n",
       "  </thead>\n",
       "  <tbody>\n",
       "    <tr>\n",
       "      <th>0</th>\n",
       "      <td>Emeka</td>\n",
       "      <td>20</td>\n",
       "    </tr>\n",
       "    <tr>\n",
       "      <th>1</th>\n",
       "      <td>Salinha</td>\n",
       "      <td>30</td>\n",
       "    </tr>\n",
       "  </tbody>\n",
       "</table>\n",
       "</div>"
      ],
      "text/plain": [
       "     names  ages\n",
       "0    Emeka    20\n",
       "1  Salinha    30"
      ]
     },
     "execution_count": 12,
     "metadata": {},
     "output_type": "execute_result"
    }
   ],
   "source": [
    "# view the two top rows\n",
    "df.head(2)"
   ]
  },
  {
   "cell_type": "code",
   "execution_count": 13,
   "metadata": {
    "pycharm": {
     "name": "#%%\n"
    }
   },
   "outputs": [
    {
     "data": {
      "text/html": [
       "<div>\n",
       "<style scoped>\n",
       "    .dataframe tbody tr th:only-of-type {\n",
       "        vertical-align: middle;\n",
       "    }\n",
       "\n",
       "    .dataframe tbody tr th {\n",
       "        vertical-align: top;\n",
       "    }\n",
       "\n",
       "    .dataframe thead th {\n",
       "        text-align: right;\n",
       "    }\n",
       "</style>\n",
       "<table border=\"1\" class=\"dataframe\">\n",
       "  <thead>\n",
       "    <tr style=\"text-align: right;\">\n",
       "      <th></th>\n",
       "      <th>names</th>\n",
       "      <th>ages</th>\n",
       "    </tr>\n",
       "  </thead>\n",
       "  <tbody>\n",
       "    <tr>\n",
       "      <th>1</th>\n",
       "      <td>Salinha</td>\n",
       "      <td>30</td>\n",
       "    </tr>\n",
       "    <tr>\n",
       "      <th>2</th>\n",
       "      <td>kamsi</td>\n",
       "      <td>34</td>\n",
       "    </tr>\n",
       "    <tr>\n",
       "      <th>3</th>\n",
       "      <td>amjad</td>\n",
       "      <td>31</td>\n",
       "    </tr>\n",
       "  </tbody>\n",
       "</table>\n",
       "</div>"
      ],
      "text/plain": [
       "     names  ages\n",
       "1  Salinha    30\n",
       "2    kamsi    34\n",
       "3    amjad    31"
      ]
     },
     "execution_count": 13,
     "metadata": {},
     "output_type": "execute_result"
    }
   ],
   "source": [
    "# view the three bottom rows\n",
    "df.tail(3)"
   ]
  },
  {
   "cell_type": "code",
   "execution_count": 14,
   "metadata": {
    "pycharm": {
     "name": "#%%\n"
    }
   },
   "outputs": [
    {
     "data": {
      "text/plain": [
       "RangeIndex(start=0, stop=4, step=1)"
      ]
     },
     "execution_count": 14,
     "metadata": {},
     "output_type": "execute_result"
    }
   ],
   "source": [
    "# view the index\n",
    "df.index"
   ]
  },
  {
   "cell_type": "code",
   "execution_count": 15,
   "metadata": {
    "pycharm": {
     "name": "#%%\n"
    }
   },
   "outputs": [
    {
     "data": {
      "text/plain": [
       "Index(['names', 'ages'], dtype='object')"
      ]
     },
     "execution_count": 15,
     "metadata": {},
     "output_type": "execute_result"
    }
   ],
   "source": [
    "# to view all the columns:\n",
    "df.columns\n",
    "\n",
    "# this could be very useful when you are asked\n",
    "# to for example find the number of features in an ml project\n",
    "# these are the skills you will need when analyzing \n",
    "# and cleaning data\n"
   ]
  },
  {
   "cell_type": "code",
   "execution_count": 16,
   "metadata": {
    "pycharm": {
     "name": "#%%\n"
    }
   },
   "outputs": [
    {
     "ename": "AttributeError",
     "evalue": "'DataFrame' object has no attribute 'rows'",
     "output_type": "error",
     "traceback": [
      "\u001B[0;31m---------------------------------------------------------------------------\u001B[0m",
      "\u001B[0;31mAttributeError\u001B[0m                            Traceback (most recent call last)",
      "\u001B[1;32m/Users/shadon./Developer/ML_Projects/numpy_projects/notebooks/pandas_exploration.ipynb Cell 16'\u001B[0m in \u001B[0;36m<cell line: 1>\u001B[0;34m()\u001B[0m\n\u001B[0;32m----> <a href='vscode-notebook-cell:/Users/shadon./Developer/ML_Projects/numpy_projects/notebooks/pandas_exploration.ipynb#ch0000015?line=0'>1</a>\u001B[0m df\u001B[39m.\u001B[39;49mrows\n",
      "File \u001B[0;32m~/Developer/ML_Projects/numpy_projects/numpy_env/lib/python3.9/site-packages/pandas/core/generic.py:5575\u001B[0m, in \u001B[0;36mNDFrame.__getattr__\u001B[0;34m(self, name)\u001B[0m\n\u001B[1;32m   5568\u001B[0m \u001B[39mif\u001B[39;00m (\n\u001B[1;32m   5569\u001B[0m     name \u001B[39mnot\u001B[39;00m \u001B[39min\u001B[39;00m \u001B[39mself\u001B[39m\u001B[39m.\u001B[39m_internal_names_set\n\u001B[1;32m   5570\u001B[0m     \u001B[39mand\u001B[39;00m name \u001B[39mnot\u001B[39;00m \u001B[39min\u001B[39;00m \u001B[39mself\u001B[39m\u001B[39m.\u001B[39m_metadata\n\u001B[1;32m   5571\u001B[0m     \u001B[39mand\u001B[39;00m name \u001B[39mnot\u001B[39;00m \u001B[39min\u001B[39;00m \u001B[39mself\u001B[39m\u001B[39m.\u001B[39m_accessors\n\u001B[1;32m   5572\u001B[0m     \u001B[39mand\u001B[39;00m \u001B[39mself\u001B[39m\u001B[39m.\u001B[39m_info_axis\u001B[39m.\u001B[39m_can_hold_identifiers_and_holds_name(name)\n\u001B[1;32m   5573\u001B[0m ):\n\u001B[1;32m   5574\u001B[0m     \u001B[39mreturn\u001B[39;00m \u001B[39mself\u001B[39m[name]\n\u001B[0;32m-> 5575\u001B[0m \u001B[39mreturn\u001B[39;00m \u001B[39mobject\u001B[39;49m\u001B[39m.\u001B[39;49m\u001B[39m__getattribute__\u001B[39;49m(\u001B[39mself\u001B[39;49m, name)\n",
      "\u001B[0;31mAttributeError\u001B[0m: 'DataFrame' object has no attribute 'rows'"
     ]
    }
   ],
   "source": [
    "df.rows"
   ]
  },
  {
   "cell_type": "code",
   "execution_count": 19,
   "metadata": {
    "pycharm": {
     "name": "#%%\n"
    }
   },
   "outputs": [
    {
     "ename": "TypeError",
     "evalue": "_get_value() missing 1 required positional argument: 'col'",
     "output_type": "error",
     "traceback": [
      "\u001B[0;31m---------------------------------------------------------------------------\u001B[0m",
      "\u001B[0;31mTypeError\u001B[0m                                 Traceback (most recent call last)",
      "\u001B[1;32m/Users/shadon./Developer/ML_Projects/numpy_projects/notebooks/pandas_exploration.ipynb Cell 17'\u001B[0m in \u001B[0;36m<cell line: 1>\u001B[0;34m()\u001B[0m\n\u001B[0;32m----> <a href='vscode-notebook-cell:/Users/shadon./Developer/ML_Projects/numpy_projects/notebooks/pandas_exploration.ipynb#ch0000016?line=0'>1</a>\u001B[0m df\u001B[39m.\u001B[39;49mat[\u001B[39m0\u001B[39;49m]\n",
      "File \u001B[0;32m~/Developer/ML_Projects/numpy_projects/numpy_env/lib/python3.9/site-packages/pandas/core/indexing.py:2270\u001B[0m, in \u001B[0;36m_AtIndexer.__getitem__\u001B[0;34m(self, key)\u001B[0m\n\u001B[1;32m   2267\u001B[0m         \u001B[39mraise\u001B[39;00m \u001B[39mValueError\u001B[39;00m(\u001B[39m\"\u001B[39m\u001B[39mInvalid call for scalar access (getting)!\u001B[39m\u001B[39m\"\u001B[39m)\n\u001B[1;32m   2268\u001B[0m     \u001B[39mreturn\u001B[39;00m \u001B[39mself\u001B[39m\u001B[39m.\u001B[39mobj\u001B[39m.\u001B[39mloc[key]\n\u001B[0;32m-> 2270\u001B[0m \u001B[39mreturn\u001B[39;00m \u001B[39msuper\u001B[39;49m()\u001B[39m.\u001B[39;49m\u001B[39m__getitem__\u001B[39;49m(key)\n",
      "File \u001B[0;32m~/Developer/ML_Projects/numpy_projects/numpy_env/lib/python3.9/site-packages/pandas/core/indexing.py:2221\u001B[0m, in \u001B[0;36m_ScalarAccessIndexer.__getitem__\u001B[0;34m(self, key)\u001B[0m\n\u001B[1;32m   2218\u001B[0m         \u001B[39mraise\u001B[39;00m \u001B[39mValueError\u001B[39;00m(\u001B[39m\"\u001B[39m\u001B[39mInvalid call for scalar access (getting)!\u001B[39m\u001B[39m\"\u001B[39m)\n\u001B[1;32m   2220\u001B[0m key \u001B[39m=\u001B[39m \u001B[39mself\u001B[39m\u001B[39m.\u001B[39m_convert_key(key)\n\u001B[0;32m-> 2221\u001B[0m \u001B[39mreturn\u001B[39;00m \u001B[39mself\u001B[39;49m\u001B[39m.\u001B[39;49mobj\u001B[39m.\u001B[39;49m_get_value(\u001B[39m*\u001B[39;49mkey, takeable\u001B[39m=\u001B[39;49m\u001B[39mself\u001B[39;49m\u001B[39m.\u001B[39;49m_takeable)\n",
      "\u001B[0;31mTypeError\u001B[0m: _get_value() missing 1 required positional argument: 'col'"
     ]
    }
   ],
   "source": [
    "df.at[0]"
   ]
  },
  {
   "cell_type": "code",
   "execution_count": null,
   "metadata": {
    "pycharm": {
     "name": "#%%\n"
    }
   },
   "outputs": [],
   "source": []
  }
 ],
 "metadata": {
  "kernelspec": {
   "display_name": "Python 3.9.7 ('numpy_env': venv)",
   "language": "python",
   "name": "python3"
  },
  "language_info": {
   "codemirror_mode": {
    "name": "ipython",
    "version": 3
   },
   "file_extension": ".py",
   "mimetype": "text/x-python",
   "name": "python",
   "nbconvert_exporter": "python",
   "pygments_lexer": "ipython3",
   "version": "3.9.7"
  },
  "vscode": {
   "interpreter": {
    "hash": "9b84b2540e3bb9aa6d052e2eaca687d205b2d6ae139f49b996e97da01605e7e7"
   }
  }
 },
 "nbformat": 4,
 "nbformat_minor": 0
}